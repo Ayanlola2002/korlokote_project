{
  "nbformat": 4,
  "nbformat_minor": 0,
  "metadata": {
    "kernelspec": {
      "display_name": "Python 3",
      "language": "python",
      "name": "python3"
    },
    "language_info": {
      "codemirror_mode": {
        "name": "ipython",
        "version": 3
      },
      "file_extension": ".py",
      "mimetype": "text/x-python",
      "name": "python",
      "nbconvert_exporter": "python",
      "pygments_lexer": "ipython3",
      "version": "3.7.6"
    },
    "colab": {
      "name": "SalesData_Project3.ipynb",
      "provenance": [],
      "collapsed_sections": [],
      "include_colab_link": true
    }
  },
  "cells": [
    {
      "cell_type": "markdown",
      "metadata": {
        "id": "view-in-github",
        "colab_type": "text"
      },
      "source": [
        "<a href=\"https://colab.research.google.com/github/Ayanlola2002/korlokote_project/blob/main/SalesData_Project3.ipynb\" target=\"_parent\"><img src=\"https://colab.research.google.com/assets/colab-badge.svg\" alt=\"Open In Colab\"/></a>"
      ]
    },
    {
      "cell_type": "code",
      "metadata": {
        "id": "cvL58aLz2QG3"
      },
      "source": [
        "import pandas as pd\n",
        "import numpy as np\n",
        "from datetime import datetime"
      ],
      "execution_count": null,
      "outputs": []
    },
    {
      "cell_type": "code",
      "metadata": {
        "id": "_nZPLJJY2QG-"
      },
      "source": [
        "\n",
        "train=pd.read_csv('/content/salesData.csv',dtype={'Thickness':str,'ItemCost':str,'Sales Price':str,'Batch Quantity':str,'Vat Value':str,'Sales Amount':str})"
      ],
      "execution_count": null,
      "outputs": []
    },
    {
      "cell_type": "code",
      "metadata": {
        "id": "5icVjuTn2QHE",
        "colab": {
          "base_uri": "https://localhost:8080/",
          "height": 315
        },
        "outputId": "4d0ce5a2-1d65-4ba0-833f-54eeeb26a298"
      },
      "source": [
        "train.loc[[6964,6965,6966]]"
      ],
      "execution_count": null,
      "outputs": [
        {
          "output_type": "execute_result",
          "data": {
            "text/html": [
              "<div>\n",
              "<style scoped>\n",
              "    .dataframe tbody tr th:only-of-type {\n",
              "        vertical-align: middle;\n",
              "    }\n",
              "\n",
              "    .dataframe tbody tr th {\n",
              "        vertical-align: top;\n",
              "    }\n",
              "\n",
              "    .dataframe thead th {\n",
              "        text-align: right;\n",
              "    }\n",
              "</style>\n",
              "<table border=\"1\" class=\"dataframe\">\n",
              "  <thead>\n",
              "    <tr style=\"text-align: right;\">\n",
              "      <th></th>\n",
              "      <th>#</th>\n",
              "      <th>Coil Pattern</th>\n",
              "      <th>Group Name1</th>\n",
              "      <th>Product</th>\n",
              "      <th>Document Number</th>\n",
              "      <th>Doc. Date</th>\n",
              "      <th>Week</th>\n",
              "      <th>Month</th>\n",
              "      <th>Group Name2</th>\n",
              "      <th>Customer Code</th>\n",
              "      <th>Customer Name</th>\n",
              "      <th>Item Code</th>\n",
              "      <th>Item Description</th>\n",
              "      <th>Thickness</th>\n",
              "      <th>Width</th>\n",
              "      <th>Colour</th>\n",
              "      <th>Batch Number</th>\n",
              "      <th>ItemCost</th>\n",
              "      <th>Sales Price</th>\n",
              "      <th>Batch Quantity</th>\n",
              "      <th>Vat Value</th>\n",
              "      <th>Sales Amount</th>\n",
              "    </tr>\n",
              "  </thead>\n",
              "  <tbody>\n",
              "    <tr>\n",
              "      <th>6964</th>\n",
              "      <td>6965</td>\n",
              "      <td>Embossed</td>\n",
              "      <td>FG ALUMINIUM</td>\n",
              "      <td>FGALUM</td>\n",
              "      <td>1111</td>\n",
              "      <td>28-04-2011</td>\n",
              "      <td>Week 4</td>\n",
              "      <td>4</td>\n",
              "      <td>Other Local Group</td>\n",
              "      <td>CIQ0001</td>\n",
              "      <td>Queensway Aluminium Co.Ltd</td>\n",
              "      <td>FGAEC05506DIVY120000</td>\n",
              "      <td>FG 0.55 x 1200 ALUM Ivory Dimond</td>\n",
              "      <td>0.55</td>\n",
              "      <td>1200</td>\n",
              "      <td>Ivory</td>\n",
              "      <td>KKTA1100009949</td>\n",
              "      <td>555.8536</td>\n",
              "      <td>655</td>\n",
              "      <td>1,620.00</td>\n",
              "      <td>53,055.00</td>\n",
              "      <td>1,061,100.00</td>\n",
              "    </tr>\n",
              "    <tr>\n",
              "      <th>6965</th>\n",
              "      <td>6966</td>\n",
              "      <td>Embossed</td>\n",
              "      <td>FG ALUMINIUM</td>\n",
              "      <td>FGALUM</td>\n",
              "      <td>1112</td>\n",
              "      <td>28-04-2011</td>\n",
              "      <td>Week 4</td>\n",
              "      <td>4</td>\n",
              "      <td>Other Local Group</td>\n",
              "      <td>CIQ0001</td>\n",
              "      <td>Queensway Aluminium Co.Ltd</td>\n",
              "      <td>FGAEC04506DDBN120000</td>\n",
              "      <td>FG 0.45 x 1200 ALUM Dark Brown Dimond</td>\n",
              "      <td>0.45</td>\n",
              "      <td>1200</td>\n",
              "      <td>Dark Brown</td>\n",
              "      <td>KKTA1100010396</td>\n",
              "      <td>553.5076</td>\n",
              "      <td>655</td>\n",
              "      <td>2,065.00</td>\n",
              "      <td>67,628.75</td>\n",
              "      <td>1,352,575.00</td>\n",
              "    </tr>\n",
              "    <tr>\n",
              "      <th>6966</th>\n",
              "      <td>6967</td>\n",
              "      <td>Embossed</td>\n",
              "      <td>FG ALUMINIUM</td>\n",
              "      <td>FGALUM</td>\n",
              "      <td>1112</td>\n",
              "      <td>28-04-2011</td>\n",
              "      <td>Week 4</td>\n",
              "      <td>4</td>\n",
              "      <td>Other Local Group</td>\n",
              "      <td>CIQ0001</td>\n",
              "      <td>Queensway Aluminium Co.Ltd</td>\n",
              "      <td>FGAEC04506DDBN120000</td>\n",
              "      <td>FG 0.45 x 1200 ALUM Dark Brown Dimond</td>\n",
              "      <td>0.45</td>\n",
              "      <td>1200</td>\n",
              "      <td>Dark Brown</td>\n",
              "      <td>KKTA1100010307</td>\n",
              "      <td>553.5076</td>\n",
              "      <td>655</td>\n",
              "      <td>1,950.00</td>\n",
              "      <td>63,862.50</td>\n",
              "      <td>1,277,250.00</td>\n",
              "    </tr>\n",
              "  </tbody>\n",
              "</table>\n",
              "</div>"
            ],
            "text/plain": [
              "         # Coil Pattern   Group Name1  ... Batch Quantity  Vat Value  Sales Amount\n",
              "6964  6965     Embossed  FG ALUMINIUM  ...       1,620.00  53,055.00  1,061,100.00\n",
              "6965  6966     Embossed  FG ALUMINIUM  ...       2,065.00  67,628.75  1,352,575.00\n",
              "6966  6967     Embossed  FG ALUMINIUM  ...       1,950.00  63,862.50  1,277,250.00\n",
              "\n",
              "[3 rows x 22 columns]"
            ]
          },
          "metadata": {
            "tags": []
          },
          "execution_count": 153
        }
      ]
    },
    {
      "cell_type": "code",
      "metadata": {
        "id": "HXChzdHQ2QHK"
      },
      "source": [
        "train['Doc. Date']=pd.to_datetime(train['Doc. Date'],dayfirst=True)"
      ],
      "execution_count": null,
      "outputs": []
    },
    {
      "cell_type": "code",
      "metadata": {
        "id": "590yL3Uw2QHR",
        "colab": {
          "base_uri": "https://localhost:8080/",
          "height": 510
        },
        "outputId": "bd107753-e03e-49d0-99f8-43ca52282ca2"
      },
      "source": [
        "train.info()"
      ],
      "execution_count": null,
      "outputs": [
        {
          "output_type": "stream",
          "text": [
            "<class 'pandas.core.frame.DataFrame'>\n",
            "RangeIndex: 77895 entries, 0 to 77894\n",
            "Data columns (total 22 columns):\n",
            " #   Column            Non-Null Count  Dtype         \n",
            "---  ------            --------------  -----         \n",
            " 0   #                 77895 non-null  int64         \n",
            " 1   Coil Pattern      77895 non-null  object        \n",
            " 2   Group Name1       77895 non-null  object        \n",
            " 3   Product           77895 non-null  object        \n",
            " 4   Document Number   77895 non-null  int64         \n",
            " 5   Doc. Date         77895 non-null  datetime64[ns]\n",
            " 6   Week              77895 non-null  object        \n",
            " 7   Month             77895 non-null  int64         \n",
            " 8   Group Name2       77895 non-null  object        \n",
            " 9   Customer Code     77895 non-null  object        \n",
            " 10  Customer Name     77895 non-null  object        \n",
            " 11  Item Code         77895 non-null  object        \n",
            " 12  Item Description  77895 non-null  object        \n",
            " 13  Thickness         77895 non-null  object        \n",
            " 14  Width             77895 non-null  int64         \n",
            " 15  Colour            77895 non-null  object        \n",
            " 16  Batch Number      77895 non-null  object        \n",
            " 17  ItemCost          77895 non-null  object        \n",
            " 18  Sales Price       77895 non-null  object        \n",
            " 19  Batch Quantity    77895 non-null  object        \n",
            " 20  Vat Value         77895 non-null  object        \n",
            " 21  Sales Amount      77895 non-null  object        \n",
            "dtypes: datetime64[ns](1), int64(4), object(17)\n",
            "memory usage: 13.1+ MB\n"
          ],
          "name": "stdout"
        }
      ]
    },
    {
      "cell_type": "code",
      "metadata": {
        "id": "43wqbvGv2QHW",
        "colab": {
          "base_uri": "https://localhost:8080/",
          "height": 408
        },
        "outputId": "e6745530-e341-4446-e1bd-585dba31f1d2"
      },
      "source": [
        "#check for null values\n",
        "train.isnull().sum()"
      ],
      "execution_count": null,
      "outputs": [
        {
          "output_type": "execute_result",
          "data": {
            "text/plain": [
              "#                   0\n",
              "Coil Pattern        0\n",
              "Group Name1         0\n",
              "Product             0\n",
              "Document Number     0\n",
              "Doc. Date           0\n",
              "Week                0\n",
              "Month               0\n",
              "Group Name2         0\n",
              "Customer Code       0\n",
              "Customer Name       0\n",
              "Item Code           0\n",
              "Item Description    0\n",
              "Thickness           0\n",
              "Width               0\n",
              "Colour              0\n",
              "Batch Number        0\n",
              "ItemCost            0\n",
              "Sales Price         0\n",
              "Batch Quantity      0\n",
              "Vat Value           0\n",
              "Sales Amount        0\n",
              "dtype: int64"
            ]
          },
          "metadata": {
            "tags": []
          },
          "execution_count": 156
        }
      ]
    },
    {
      "cell_type": "code",
      "metadata": {
        "id": "lHP3fYz52QHb",
        "colab": {
          "base_uri": "https://localhost:8080/",
          "height": 496
        },
        "outputId": "a1ff4e8f-123f-4b7e-e77c-96cfa143aaa6"
      },
      "source": [
        "train.tail()"
      ],
      "execution_count": null,
      "outputs": [
        {
          "output_type": "execute_result",
          "data": {
            "text/html": [
              "<div>\n",
              "<style scoped>\n",
              "    .dataframe tbody tr th:only-of-type {\n",
              "        vertical-align: middle;\n",
              "    }\n",
              "\n",
              "    .dataframe tbody tr th {\n",
              "        vertical-align: top;\n",
              "    }\n",
              "\n",
              "    .dataframe thead th {\n",
              "        text-align: right;\n",
              "    }\n",
              "</style>\n",
              "<table border=\"1\" class=\"dataframe\">\n",
              "  <thead>\n",
              "    <tr style=\"text-align: right;\">\n",
              "      <th></th>\n",
              "      <th>#</th>\n",
              "      <th>Coil Pattern</th>\n",
              "      <th>Group Name1</th>\n",
              "      <th>Product</th>\n",
              "      <th>Document Number</th>\n",
              "      <th>Doc. Date</th>\n",
              "      <th>Week</th>\n",
              "      <th>Month</th>\n",
              "      <th>Group Name2</th>\n",
              "      <th>Customer Code</th>\n",
              "      <th>Customer Name</th>\n",
              "      <th>Item Code</th>\n",
              "      <th>Item Description</th>\n",
              "      <th>Thickness</th>\n",
              "      <th>Width</th>\n",
              "      <th>Colour</th>\n",
              "      <th>Batch Number</th>\n",
              "      <th>ItemCost</th>\n",
              "      <th>Sales Price</th>\n",
              "      <th>Batch Quantity</th>\n",
              "      <th>Vat Value</th>\n",
              "      <th>Sales Amount</th>\n",
              "    </tr>\n",
              "  </thead>\n",
              "  <tbody>\n",
              "    <tr>\n",
              "      <th>77890</th>\n",
              "      <td>77891</td>\n",
              "      <td>Embossed</td>\n",
              "      <td>FG ALUMINIUM</td>\n",
              "      <td>FGALUM</td>\n",
              "      <td>2013101015</td>\n",
              "      <td>2013-07-05</td>\n",
              "      <td>Week 1</td>\n",
              "      <td>7</td>\n",
              "      <td>Local Group Tower Al</td>\n",
              "      <td>CIA0009</td>\n",
              "      <td>Aluminium Rolling Mills</td>\n",
              "      <td>FGAEC05506DPOR030000</td>\n",
              "      <td>FG 0.55 x 0300 ALUM P.O.Red Dimond</td>\n",
              "      <td>0.55</td>\n",
              "      <td>300</td>\n",
              "      <td>P.O Red</td>\n",
              "      <td>KKTBKM5286/09</td>\n",
              "      <td>580</td>\n",
              "      <td>228.58</td>\n",
              "      <td>46</td>\n",
              "      <td>525.73</td>\n",
              "      <td>10,514.68</td>\n",
              "    </tr>\n",
              "    <tr>\n",
              "      <th>77891</th>\n",
              "      <td>77892</td>\n",
              "      <td>Embossed</td>\n",
              "      <td>FG ALUMINIUM</td>\n",
              "      <td>FGALUM</td>\n",
              "      <td>2013101015</td>\n",
              "      <td>2013-07-05</td>\n",
              "      <td>Week 1</td>\n",
              "      <td>7</td>\n",
              "      <td>Local Group Tower Al</td>\n",
              "      <td>CIA0009</td>\n",
              "      <td>Aluminium Rolling Mills</td>\n",
              "      <td>FGAEC05506DPOR040000</td>\n",
              "      <td>FG 0.55 x 0400 ALUM P.O.Red Dimond</td>\n",
              "      <td>0.55</td>\n",
              "      <td>400</td>\n",
              "      <td>P.O Red</td>\n",
              "      <td>KKTAT0085</td>\n",
              "      <td>580</td>\n",
              "      <td>228.58</td>\n",
              "      <td>48</td>\n",
              "      <td>548.59</td>\n",
              "      <td>10,971.84</td>\n",
              "    </tr>\n",
              "    <tr>\n",
              "      <th>77892</th>\n",
              "      <td>77893</td>\n",
              "      <td>Embossed</td>\n",
              "      <td>FG ALUMINIUM</td>\n",
              "      <td>FGALUM</td>\n",
              "      <td>2013101015</td>\n",
              "      <td>2013-07-05</td>\n",
              "      <td>Week 1</td>\n",
              "      <td>7</td>\n",
              "      <td>Local Group Tower Al</td>\n",
              "      <td>CIA0009</td>\n",
              "      <td>Aluminium Rolling Mills</td>\n",
              "      <td>FGAEC05506DTCR045000</td>\n",
              "      <td>FG 0.55 x 0450 ALUM T.C Red Dimond</td>\n",
              "      <td>0.55</td>\n",
              "      <td>450</td>\n",
              "      <td>T.C Red</td>\n",
              "      <td>KKTA0210A0412AI</td>\n",
              "      <td>580</td>\n",
              "      <td>228.58</td>\n",
              "      <td>60</td>\n",
              "      <td>685.74</td>\n",
              "      <td>13,714.80</td>\n",
              "    </tr>\n",
              "    <tr>\n",
              "      <th>77893</th>\n",
              "      <td>77894</td>\n",
              "      <td>Embossed</td>\n",
              "      <td>FG ALUMINIUM</td>\n",
              "      <td>FGALUM</td>\n",
              "      <td>2013101015</td>\n",
              "      <td>2013-07-05</td>\n",
              "      <td>Week 1</td>\n",
              "      <td>7</td>\n",
              "      <td>Local Group Tower Al</td>\n",
              "      <td>CIA0009</td>\n",
              "      <td>Aluminium Rolling Mills</td>\n",
              "      <td>FGAEC07006DDBN040000</td>\n",
              "      <td>FG 0.70 x 0400 ALUM Dark Brown Dimond</td>\n",
              "      <td>0.7</td>\n",
              "      <td>400</td>\n",
              "      <td>Dark Brown</td>\n",
              "      <td>KKTM0910A0245</td>\n",
              "      <td>504.1657</td>\n",
              "      <td>228.58</td>\n",
              "      <td>160</td>\n",
              "      <td>1,828.64</td>\n",
              "      <td>36,572.80</td>\n",
              "    </tr>\n",
              "    <tr>\n",
              "      <th>77894</th>\n",
              "      <td>77895</td>\n",
              "      <td>Embossed</td>\n",
              "      <td>FG ALUMINIUM</td>\n",
              "      <td>FGALUM</td>\n",
              "      <td>2013101015</td>\n",
              "      <td>2013-07-05</td>\n",
              "      <td>Week 1</td>\n",
              "      <td>7</td>\n",
              "      <td>Local Group Tower Al</td>\n",
              "      <td>CIA0009</td>\n",
              "      <td>Aluminium Rolling Mills</td>\n",
              "      <td>FGAEC07006DDBN040000</td>\n",
              "      <td>FG 0.70 x 0400 ALUM Dark Brown Dimond</td>\n",
              "      <td>0.7</td>\n",
              "      <td>400</td>\n",
              "      <td>Dark Brown</td>\n",
              "      <td>KKTQ0910A0236</td>\n",
              "      <td>504.1657</td>\n",
              "      <td>228.58</td>\n",
              "      <td>160</td>\n",
              "      <td>1,828.64</td>\n",
              "      <td>36,572.80</td>\n",
              "    </tr>\n",
              "  </tbody>\n",
              "</table>\n",
              "</div>"
            ],
            "text/plain": [
              "           # Coil Pattern   Group Name1  ... Batch Quantity  Vat Value Sales Amount\n",
              "77890  77891     Embossed  FG ALUMINIUM  ...             46     525.73    10,514.68\n",
              "77891  77892     Embossed  FG ALUMINIUM  ...             48     548.59    10,971.84\n",
              "77892  77893     Embossed  FG ALUMINIUM  ...             60     685.74    13,714.80\n",
              "77893  77894     Embossed  FG ALUMINIUM  ...            160   1,828.64    36,572.80\n",
              "77894  77895     Embossed  FG ALUMINIUM  ...            160   1,828.64    36,572.80\n",
              "\n",
              "[5 rows x 22 columns]"
            ]
          },
          "metadata": {
            "tags": []
          },
          "execution_count": 157
        }
      ]
    },
    {
      "cell_type": "code",
      "metadata": {
        "id": "6N1YGgnt2QHg",
        "colab": {
          "base_uri": "https://localhost:8080/",
          "height": 102
        },
        "outputId": "74728456-702a-4f41-e2c5-2ef18c4f630e"
      },
      "source": [
        "#some values has string needs to be removed\n",
        "train['Thickness'].unique()"
      ],
      "execution_count": null,
      "outputs": [
        {
          "output_type": "execute_result",
          "data": {
            "text/plain": [
              "array(['0.7', '0.55', '0.45', '0.6', '0.4', '0.5', '0.8', '0.35', '0.3',\n",
              "       '1', '0.65', '1.2', '0.25', '0.9', '0.72', '0.26', '0.53', '0.42',\n",
              "       '0.52', '0.75', '0.57', '0.43', '0.63', '0.67', '0.62', '0.40B',\n",
              "       '0.40C', '0.2', '0.28', '0.37', '0.23', '0.32', '0.38', '0.27',\n",
              "       '0.31', '0.15', '0.18', '0.33', '0.47'], dtype=object)"
            ]
          },
          "metadata": {
            "tags": []
          },
          "execution_count": 158
        }
      ]
    },
    {
      "cell_type": "code",
      "metadata": {
        "id": "x4yJfiCX2QHl",
        "colab": {
          "base_uri": "https://localhost:8080/",
          "height": 51
        },
        "outputId": "5f7a11c8-f4ee-4188-c8dd-6d0a0c7e48df"
      },
      "source": [
        "#checking datatypes of columns for object datatype\n",
        "train['Thickness'].apply(type).value_counts()"
      ],
      "execution_count": null,
      "outputs": [
        {
          "output_type": "execute_result",
          "data": {
            "text/plain": [
              "<class 'str'>    77895\n",
              "Name: Thickness, dtype: int64"
            ]
          },
          "metadata": {
            "tags": []
          },
          "execution_count": 159
        }
      ]
    },
    {
      "cell_type": "code",
      "metadata": {
        "id": "pAZONOQL2QHq",
        "colab": {
          "base_uri": "https://localhost:8080/",
          "height": 51
        },
        "outputId": "58e66a0e-eace-475a-a1a3-e1cc12f24502"
      },
      "source": [
        "#can be converted directly by astype\n",
        "train['ItemCost'].unique()"
      ],
      "execution_count": null,
      "outputs": [
        {
          "output_type": "execute_result",
          "data": {
            "text/plain": [
              "array(['508.8909', '517.5291', '526.0892', ..., '16.3102', '504.1657',\n",
              "       '513.7143'], dtype=object)"
            ]
          },
          "metadata": {
            "tags": []
          },
          "execution_count": 160
        }
      ]
    },
    {
      "cell_type": "code",
      "metadata": {
        "id": "L5fYv2qj2QHu",
        "colab": {
          "base_uri": "https://localhost:8080/",
          "height": 51
        },
        "outputId": "12f0d601-58b0-43b9-cf39-21dd9a48c843"
      },
      "source": [
        "#checking datatypes of columns for object datatype\n",
        "train['ItemCost'].apply(type).value_counts()"
      ],
      "execution_count": null,
      "outputs": [
        {
          "output_type": "execute_result",
          "data": {
            "text/plain": [
              "<class 'str'>    77895\n",
              "Name: ItemCost, dtype: int64"
            ]
          },
          "metadata": {
            "tags": []
          },
          "execution_count": 161
        }
      ]
    },
    {
      "cell_type": "code",
      "metadata": {
        "id": "jROi1xrJ2QHz",
        "colab": {
          "base_uri": "https://localhost:8080/",
          "height": 799
        },
        "outputId": "7097f530-fc8b-49f0-f89b-1d6f30ccd972"
      },
      "source": [
        "#can be converted directly by astype\n",
        "train['Sales Price'].unique()"
      ],
      "execution_count": null,
      "outputs": [
        {
          "output_type": "execute_result",
          "data": {
            "text/plain": [
              "array(['649', '639', '654', '647', '664', '659', '660.52', '454.22',\n",
              "       '621', '645.82', '631', '694', '653.66', '504', '657', '685',\n",
              "       '506.55', '450', '500', '462', '580', '480', '669', '465.08',\n",
              "       '465', '643', '628', '638', '600', '636', '440', '634', '437.13',\n",
              "       '648', '656', '663', '453', '449.98', '499.58', '658', '523.81',\n",
              "       '409.52', '505', '1,100.00', '718', '485', '517.25', '483.2',\n",
              "       '400', '469.61', '504.34', '487.73', '655', '650', '504.76', '665',\n",
              "       '504.77', '680', '670', '678', '552.4', '551.15', '532', '350',\n",
              "       '665.72', '675.24', '560', '705', '690', '698', '710', '535.5',\n",
              "       '584.29', '325', '748', '725', '556.74', '564.26', '573.25',\n",
              "       '676.19', '575.28', '558.45', '713', '484.17', '528.61', '572.98',\n",
              "       '696', '468.18', '554.78', '686', '0.0001', '701', '693', '575.97',\n",
              "       '695', '671', '586.68', '727.3', '518.67', '675', '671.43', '676',\n",
              "       '672', '533', '688', '537', '674.29', '720', '711', '703', '597',\n",
              "       '610', '529', '620', '723', '740', '792', '712.51', '516.5', '405',\n",
              "       '700', '420', '386', '543.2', '602.32', '506.32', '772', '715',\n",
              "       '745', '750', '780', '496.93', '611.31', '513.88', '775', '575',\n",
              "       '756', '556', '565', '754.8', '403.3', '660', '630', '625', '496',\n",
              "       '545', '598.5', '524', '427', '645', '640', '635', '530', '580.5',\n",
              "       '550', '422.06', '300', '652', '476.19', '668', '0', '622',\n",
              "       '609.52', '430', '608.38', '617.88', '642', '624', '623.99',\n",
              "       '527.51', '508.022', '600.936', '80', '730', '512.66', '660.505',\n",
              "       '800', '785', '755', '810', '795.88', '790', '590', '604', '627',\n",
              "       '370', '360', '435', '330', '140', '340', '314.29', '419.05',\n",
              "       '285.71', '320', '425', '285.72', '170', '381', '385', '366',\n",
              "       '310', '200', '390', '371', '315', '250', '415', '396', '345',\n",
              "       '419', '424', '362.5', '445', '401', '314.28', '380', '333.33',\n",
              "       '333', '481', '547', '480.4', '536', '520', '100', '339', '354',\n",
              "       '335', '150', '355', '365', '109.25', '90', '110', '120', '130',\n",
              "       '49.399', '59.279', '49.4005', '42.812', '20.583', '18.296',\n",
              "       '30.58', '35.677', '220', '44.83', '37.28', '198.9', '280', '105',\n",
              "       '70', '63.72', '53.1', '12', '49.66', '25.34', '2.79', '53.09',\n",
              "       '39.4', '69.33', '62.73', '50.88', '61.056', '62.67', '61.56',\n",
              "       '51', '4.31', '44.2', '61.06', '32.83', '28.03', '41.1', '34.55',\n",
              "       '42.8', '39.39', '47.93', '74.688', '42.02', '37.714', '34.456',\n",
              "       '28.111', '33.18', '45.482', '62.24', '60.32', '50.267', '62.4',\n",
              "       '73.74', '86.188', '53.52', '49.214', '37.366', '10', '45.452',\n",
              "       '82.468', '45.051', '83.468', '70.002', '70.02', '48.762',\n",
              "       '40.434', '72.468', '74.468', '84.468', '61.263', '76.244',\n",
              "       '53.643', '47.013', '43.434', '34.297', '61.577', '35.413', '6',\n",
              "       '49.2', '45.455', '80.393', '37.136', '74.169', '45.306', '56.138',\n",
              "       '67.251', '40.796', '35.892', '47.03', '49.697', '85.323',\n",
              "       '53.792', '47.273', '79.061', '41.752', '49.679', '51.605',\n",
              "       '32.451', '30.621', '50.905', '30.62', '78', '81', '85.5', '87',\n",
              "       '92', '99', '94', '85', '270', '265', '260', '275', '240', '75',\n",
              "       '76.1905', '76', '79.8', '673', '228.58'], dtype=object)"
            ]
          },
          "metadata": {
            "tags": []
          },
          "execution_count": 162
        }
      ]
    },
    {
      "cell_type": "code",
      "metadata": {
        "id": "oqgBERQH2QH7",
        "colab": {
          "base_uri": "https://localhost:8080/",
          "height": 51
        },
        "outputId": "715b2980-c23a-406a-acb5-4042268ef7f0"
      },
      "source": [
        "#checking datatypes of columns for object datatype\n",
        "train['Sales Price'].apply(type).value_counts()"
      ],
      "execution_count": null,
      "outputs": [
        {
          "output_type": "execute_result",
          "data": {
            "text/plain": [
              "<class 'str'>    77895\n",
              "Name: Sales Price, dtype: int64"
            ]
          },
          "metadata": {
            "tags": []
          },
          "execution_count": 163
        }
      ]
    },
    {
      "cell_type": "code",
      "metadata": {
        "id": "tPejVfPd2QH_",
        "colab": {
          "base_uri": "https://localhost:8080/",
          "height": 51
        },
        "outputId": "f8084419-ebbe-40c4-f691-df436f039e63"
      },
      "source": [
        "#can be converted directly by astype\n",
        "train['Batch Quantity'].unique()"
      ],
      "execution_count": null,
      "outputs": [
        {
          "output_type": "execute_result",
          "data": {
            "text/plain": [
              "array(['3,600.00', '3,250.00', '2,170.00', ..., '4,297.00', '5,110.00',\n",
              "       '5,115.00'], dtype=object)"
            ]
          },
          "metadata": {
            "tags": []
          },
          "execution_count": 164
        }
      ]
    },
    {
      "cell_type": "code",
      "metadata": {
        "id": "16fh28v12QID",
        "colab": {
          "base_uri": "https://localhost:8080/",
          "height": 51
        },
        "outputId": "6ba3905d-8214-4234-b094-8ff51137f5b9"
      },
      "source": [
        "#can be converted directly by astype\n",
        "train['Vat Value'].unique()"
      ],
      "execution_count": null,
      "outputs": [
        {
          "output_type": "execute_result",
          "data": {
            "text/plain": [
              "array(['116,820.00', '105,462.50', '70,416.50', ..., '502.88', '422.87',\n",
              "       '1,828.64'], dtype=object)"
            ]
          },
          "metadata": {
            "tags": []
          },
          "execution_count": 165
        }
      ]
    },
    {
      "cell_type": "code",
      "metadata": {
        "id": "8BHmBxQ72QII",
        "colab": {
          "base_uri": "https://localhost:8080/",
          "height": 51
        },
        "outputId": "ed33787c-f9fb-4582-88b2-85dba883fe48"
      },
      "source": [
        "#can be converted directly by astype\n",
        "train['Sales Amount'].unique()"
      ],
      "execution_count": null,
      "outputs": [
        {
          "output_type": "execute_result",
          "data": {
            "text/plain": [
              "array(['2,336,400.00', '2,109,250.00', '1,408,330.00', ..., '10,057.52',\n",
              "       '8,457.46', '36,572.80'], dtype=object)"
            ]
          },
          "metadata": {
            "tags": []
          },
          "execution_count": 166
        }
      ]
    },
    {
      "cell_type": "code",
      "metadata": {
        "id": "Pr5jYw9G2QIM"
      },
      "source": [
        "def clean_currency(x):\n",
        "    \n",
        "    \"\"\" If the value is a string, then remove currency symbol and delimiters\n",
        "    otherwise, the value is numeric and can be converted\n",
        "    \"\"\"\n",
        "    if isinstance(x, str):\n",
        "        return(x.replace(',',''))\n",
        "    return(x)"
      ],
      "execution_count": null,
      "outputs": []
    },
    {
      "cell_type": "code",
      "metadata": {
        "id": "lAxUh06t2QIQ"
      },
      "source": [
        "import re\n",
        "def get_date_part(df):\n",
        "    df['Year']=df['Doc. Date'].dt.year.astype('int')\n",
        "    df['Month_Of_year']=df['Doc. Date'].dt.month.astype('int')\n",
        "    df['Day_Of_Month']=df['Doc. Date'].dt.day.astype('int')\n",
        "    df['Week_of_Month']=df['Doc. Date'].dt.weekday.astype('int')\n",
        "    df['Thickness']=df['Thickness'].str.replace('[^\\d.]','').astype('float')\n",
        "    df['Width']=df['Width'].astype('float')\n",
        "    df['ItemCost']=df['ItemCost'].apply(clean_currency).astype('float')\n",
        "    df['Sales Price']=df['Sales Price'].apply(clean_currency).astype('float')\n",
        "    df['Batch Quantity']=df['Batch Quantity'].apply(clean_currency).astype('float')\n",
        "    df['Vat Value']=df['Vat Value'].apply(clean_currency).astype('float')\n",
        "    df['Sales Amount']=df['Sales Amount'].apply(clean_currency).astype('float')\n",
        "    return df\n",
        " #df.code.str.replace('[^\\d.]', '').astype(float)\n"
      ],
      "execution_count": null,
      "outputs": []
    },
    {
      "cell_type": "code",
      "metadata": {
        "id": "MFLaIIM52QIW",
        "colab": {
          "base_uri": "https://localhost:8080/",
          "height": 966
        },
        "outputId": "eee084a6-277e-4d53-ab10-06f80c3cdb33"
      },
      "source": [
        "get_date_part(train)"
      ],
      "execution_count": null,
      "outputs": [
        {
          "output_type": "execute_result",
          "data": {
            "text/html": [
              "<div>\n",
              "<style scoped>\n",
              "    .dataframe tbody tr th:only-of-type {\n",
              "        vertical-align: middle;\n",
              "    }\n",
              "\n",
              "    .dataframe tbody tr th {\n",
              "        vertical-align: top;\n",
              "    }\n",
              "\n",
              "    .dataframe thead th {\n",
              "        text-align: right;\n",
              "    }\n",
              "</style>\n",
              "<table border=\"1\" class=\"dataframe\">\n",
              "  <thead>\n",
              "    <tr style=\"text-align: right;\">\n",
              "      <th></th>\n",
              "      <th>#</th>\n",
              "      <th>Coil Pattern</th>\n",
              "      <th>Group Name1</th>\n",
              "      <th>Product</th>\n",
              "      <th>Document Number</th>\n",
              "      <th>Doc. Date</th>\n",
              "      <th>Week</th>\n",
              "      <th>Month</th>\n",
              "      <th>Group Name2</th>\n",
              "      <th>Customer Code</th>\n",
              "      <th>Customer Name</th>\n",
              "      <th>Item Code</th>\n",
              "      <th>Item Description</th>\n",
              "      <th>Thickness</th>\n",
              "      <th>Width</th>\n",
              "      <th>Colour</th>\n",
              "      <th>Batch Number</th>\n",
              "      <th>ItemCost</th>\n",
              "      <th>Sales Price</th>\n",
              "      <th>Batch Quantity</th>\n",
              "      <th>Vat Value</th>\n",
              "      <th>Sales Amount</th>\n",
              "      <th>Year</th>\n",
              "      <th>Month_Of_year</th>\n",
              "      <th>Day_Of_Month</th>\n",
              "      <th>Week_of_Month</th>\n",
              "    </tr>\n",
              "  </thead>\n",
              "  <tbody>\n",
              "    <tr>\n",
              "      <th>0</th>\n",
              "      <td>1</td>\n",
              "      <td>Embossed</td>\n",
              "      <td>FG ALUMINIUM</td>\n",
              "      <td>FGALUM</td>\n",
              "      <td>1547</td>\n",
              "      <td>2010-08-03</td>\n",
              "      <td>Week 1</td>\n",
              "      <td>8</td>\n",
              "      <td>Local Group Tower Al</td>\n",
              "      <td>CIT0005</td>\n",
              "      <td>Tower Building Products</td>\n",
              "      <td>FGAEC07006DMBL120000</td>\n",
              "      <td>FG 0.70 x 1200 ALUM H.M Blue Dimond</td>\n",
              "      <td>0.70</td>\n",
              "      <td>1200.0</td>\n",
              "      <td>H.M Blue</td>\n",
              "      <td>KKTA0710A0217</td>\n",
              "      <td>508.8909</td>\n",
              "      <td>649.00</td>\n",
              "      <td>3600.0</td>\n",
              "      <td>116820.00</td>\n",
              "      <td>2336400.00</td>\n",
              "      <td>2010</td>\n",
              "      <td>8</td>\n",
              "      <td>3</td>\n",
              "      <td>1</td>\n",
              "    </tr>\n",
              "    <tr>\n",
              "      <th>1</th>\n",
              "      <td>2</td>\n",
              "      <td>Embossed</td>\n",
              "      <td>FG ALUMINIUM</td>\n",
              "      <td>FGALUM</td>\n",
              "      <td>1548</td>\n",
              "      <td>2010-08-03</td>\n",
              "      <td>Week 1</td>\n",
              "      <td>8</td>\n",
              "      <td>Local Group Tower Al</td>\n",
              "      <td>CIT0005</td>\n",
              "      <td>Tower Building Products</td>\n",
              "      <td>FGAEC07006DMBL120000</td>\n",
              "      <td>FG 0.70 x 1200 ALUM H.M Blue Dimond</td>\n",
              "      <td>0.70</td>\n",
              "      <td>1200.0</td>\n",
              "      <td>H.M Blue</td>\n",
              "      <td>KKTA0710A0220</td>\n",
              "      <td>508.8909</td>\n",
              "      <td>649.00</td>\n",
              "      <td>3250.0</td>\n",
              "      <td>105462.50</td>\n",
              "      <td>2109250.00</td>\n",
              "      <td>2010</td>\n",
              "      <td>8</td>\n",
              "      <td>3</td>\n",
              "      <td>1</td>\n",
              "    </tr>\n",
              "    <tr>\n",
              "      <th>2</th>\n",
              "      <td>3</td>\n",
              "      <td>Embossed</td>\n",
              "      <td>FG ALUMINIUM</td>\n",
              "      <td>FGALUM</td>\n",
              "      <td>1549</td>\n",
              "      <td>2010-08-03</td>\n",
              "      <td>Week 1</td>\n",
              "      <td>8</td>\n",
              "      <td>Local Group Tower Al</td>\n",
              "      <td>CIT0005</td>\n",
              "      <td>Tower Building Products</td>\n",
              "      <td>FGAEC07006DMBL120000</td>\n",
              "      <td>FG 0.70 x 1200 ALUM H.M Blue Dimond</td>\n",
              "      <td>0.70</td>\n",
              "      <td>1200.0</td>\n",
              "      <td>H.M Blue</td>\n",
              "      <td>KKTA0710A0214</td>\n",
              "      <td>508.8909</td>\n",
              "      <td>649.00</td>\n",
              "      <td>2170.0</td>\n",
              "      <td>70416.50</td>\n",
              "      <td>1408330.00</td>\n",
              "      <td>2010</td>\n",
              "      <td>8</td>\n",
              "      <td>3</td>\n",
              "      <td>1</td>\n",
              "    </tr>\n",
              "    <tr>\n",
              "      <th>3</th>\n",
              "      <td>4</td>\n",
              "      <td>Embossed</td>\n",
              "      <td>FG ALUMINIUM</td>\n",
              "      <td>FGALUM</td>\n",
              "      <td>1550</td>\n",
              "      <td>2010-08-03</td>\n",
              "      <td>Week 1</td>\n",
              "      <td>8</td>\n",
              "      <td>Local Group Tower Al</td>\n",
              "      <td>CIT0005</td>\n",
              "      <td>Tower Building Products</td>\n",
              "      <td>FGAEC07006DMBL120000</td>\n",
              "      <td>FG 0.70 x 1200 ALUM H.M Blue Dimond</td>\n",
              "      <td>0.70</td>\n",
              "      <td>1200.0</td>\n",
              "      <td>H.M Blue</td>\n",
              "      <td>KKTA0710A0219</td>\n",
              "      <td>508.8909</td>\n",
              "      <td>649.00</td>\n",
              "      <td>3410.0</td>\n",
              "      <td>110654.50</td>\n",
              "      <td>2213090.00</td>\n",
              "      <td>2010</td>\n",
              "      <td>8</td>\n",
              "      <td>3</td>\n",
              "      <td>1</td>\n",
              "    </tr>\n",
              "    <tr>\n",
              "      <th>4</th>\n",
              "      <td>5</td>\n",
              "      <td>Embossed</td>\n",
              "      <td>FG ALUMINIUM</td>\n",
              "      <td>FGALUM</td>\n",
              "      <td>1551</td>\n",
              "      <td>2010-08-03</td>\n",
              "      <td>Week 1</td>\n",
              "      <td>8</td>\n",
              "      <td>Local Group Tower Al</td>\n",
              "      <td>CIT0005</td>\n",
              "      <td>Tower Building Products</td>\n",
              "      <td>FGAEC07006DMBL120000</td>\n",
              "      <td>FG 0.70 x 1200 ALUM H.M Blue Dimond</td>\n",
              "      <td>0.70</td>\n",
              "      <td>1200.0</td>\n",
              "      <td>H.M Blue</td>\n",
              "      <td>KKTA0710A0122</td>\n",
              "      <td>508.8909</td>\n",
              "      <td>649.00</td>\n",
              "      <td>2815.0</td>\n",
              "      <td>91346.75</td>\n",
              "      <td>1826935.00</td>\n",
              "      <td>2010</td>\n",
              "      <td>8</td>\n",
              "      <td>3</td>\n",
              "      <td>1</td>\n",
              "    </tr>\n",
              "    <tr>\n",
              "      <th>...</th>\n",
              "      <td>...</td>\n",
              "      <td>...</td>\n",
              "      <td>...</td>\n",
              "      <td>...</td>\n",
              "      <td>...</td>\n",
              "      <td>...</td>\n",
              "      <td>...</td>\n",
              "      <td>...</td>\n",
              "      <td>...</td>\n",
              "      <td>...</td>\n",
              "      <td>...</td>\n",
              "      <td>...</td>\n",
              "      <td>...</td>\n",
              "      <td>...</td>\n",
              "      <td>...</td>\n",
              "      <td>...</td>\n",
              "      <td>...</td>\n",
              "      <td>...</td>\n",
              "      <td>...</td>\n",
              "      <td>...</td>\n",
              "      <td>...</td>\n",
              "      <td>...</td>\n",
              "      <td>...</td>\n",
              "      <td>...</td>\n",
              "      <td>...</td>\n",
              "      <td>...</td>\n",
              "    </tr>\n",
              "    <tr>\n",
              "      <th>77890</th>\n",
              "      <td>77891</td>\n",
              "      <td>Embossed</td>\n",
              "      <td>FG ALUMINIUM</td>\n",
              "      <td>FGALUM</td>\n",
              "      <td>2013101015</td>\n",
              "      <td>2013-07-05</td>\n",
              "      <td>Week 1</td>\n",
              "      <td>7</td>\n",
              "      <td>Local Group Tower Al</td>\n",
              "      <td>CIA0009</td>\n",
              "      <td>Aluminium Rolling Mills</td>\n",
              "      <td>FGAEC05506DPOR030000</td>\n",
              "      <td>FG 0.55 x 0300 ALUM P.O.Red Dimond</td>\n",
              "      <td>0.55</td>\n",
              "      <td>300.0</td>\n",
              "      <td>P.O Red</td>\n",
              "      <td>KKTBKM5286/09</td>\n",
              "      <td>580.0000</td>\n",
              "      <td>228.58</td>\n",
              "      <td>46.0</td>\n",
              "      <td>525.73</td>\n",
              "      <td>10514.68</td>\n",
              "      <td>2013</td>\n",
              "      <td>7</td>\n",
              "      <td>5</td>\n",
              "      <td>4</td>\n",
              "    </tr>\n",
              "    <tr>\n",
              "      <th>77891</th>\n",
              "      <td>77892</td>\n",
              "      <td>Embossed</td>\n",
              "      <td>FG ALUMINIUM</td>\n",
              "      <td>FGALUM</td>\n",
              "      <td>2013101015</td>\n",
              "      <td>2013-07-05</td>\n",
              "      <td>Week 1</td>\n",
              "      <td>7</td>\n",
              "      <td>Local Group Tower Al</td>\n",
              "      <td>CIA0009</td>\n",
              "      <td>Aluminium Rolling Mills</td>\n",
              "      <td>FGAEC05506DPOR040000</td>\n",
              "      <td>FG 0.55 x 0400 ALUM P.O.Red Dimond</td>\n",
              "      <td>0.55</td>\n",
              "      <td>400.0</td>\n",
              "      <td>P.O Red</td>\n",
              "      <td>KKTAT0085</td>\n",
              "      <td>580.0000</td>\n",
              "      <td>228.58</td>\n",
              "      <td>48.0</td>\n",
              "      <td>548.59</td>\n",
              "      <td>10971.84</td>\n",
              "      <td>2013</td>\n",
              "      <td>7</td>\n",
              "      <td>5</td>\n",
              "      <td>4</td>\n",
              "    </tr>\n",
              "    <tr>\n",
              "      <th>77892</th>\n",
              "      <td>77893</td>\n",
              "      <td>Embossed</td>\n",
              "      <td>FG ALUMINIUM</td>\n",
              "      <td>FGALUM</td>\n",
              "      <td>2013101015</td>\n",
              "      <td>2013-07-05</td>\n",
              "      <td>Week 1</td>\n",
              "      <td>7</td>\n",
              "      <td>Local Group Tower Al</td>\n",
              "      <td>CIA0009</td>\n",
              "      <td>Aluminium Rolling Mills</td>\n",
              "      <td>FGAEC05506DTCR045000</td>\n",
              "      <td>FG 0.55 x 0450 ALUM T.C Red Dimond</td>\n",
              "      <td>0.55</td>\n",
              "      <td>450.0</td>\n",
              "      <td>T.C Red</td>\n",
              "      <td>KKTA0210A0412AI</td>\n",
              "      <td>580.0000</td>\n",
              "      <td>228.58</td>\n",
              "      <td>60.0</td>\n",
              "      <td>685.74</td>\n",
              "      <td>13714.80</td>\n",
              "      <td>2013</td>\n",
              "      <td>7</td>\n",
              "      <td>5</td>\n",
              "      <td>4</td>\n",
              "    </tr>\n",
              "    <tr>\n",
              "      <th>77893</th>\n",
              "      <td>77894</td>\n",
              "      <td>Embossed</td>\n",
              "      <td>FG ALUMINIUM</td>\n",
              "      <td>FGALUM</td>\n",
              "      <td>2013101015</td>\n",
              "      <td>2013-07-05</td>\n",
              "      <td>Week 1</td>\n",
              "      <td>7</td>\n",
              "      <td>Local Group Tower Al</td>\n",
              "      <td>CIA0009</td>\n",
              "      <td>Aluminium Rolling Mills</td>\n",
              "      <td>FGAEC07006DDBN040000</td>\n",
              "      <td>FG 0.70 x 0400 ALUM Dark Brown Dimond</td>\n",
              "      <td>0.70</td>\n",
              "      <td>400.0</td>\n",
              "      <td>Dark Brown</td>\n",
              "      <td>KKTM0910A0245</td>\n",
              "      <td>504.1657</td>\n",
              "      <td>228.58</td>\n",
              "      <td>160.0</td>\n",
              "      <td>1828.64</td>\n",
              "      <td>36572.80</td>\n",
              "      <td>2013</td>\n",
              "      <td>7</td>\n",
              "      <td>5</td>\n",
              "      <td>4</td>\n",
              "    </tr>\n",
              "    <tr>\n",
              "      <th>77894</th>\n",
              "      <td>77895</td>\n",
              "      <td>Embossed</td>\n",
              "      <td>FG ALUMINIUM</td>\n",
              "      <td>FGALUM</td>\n",
              "      <td>2013101015</td>\n",
              "      <td>2013-07-05</td>\n",
              "      <td>Week 1</td>\n",
              "      <td>7</td>\n",
              "      <td>Local Group Tower Al</td>\n",
              "      <td>CIA0009</td>\n",
              "      <td>Aluminium Rolling Mills</td>\n",
              "      <td>FGAEC07006DDBN040000</td>\n",
              "      <td>FG 0.70 x 0400 ALUM Dark Brown Dimond</td>\n",
              "      <td>0.70</td>\n",
              "      <td>400.0</td>\n",
              "      <td>Dark Brown</td>\n",
              "      <td>KKTQ0910A0236</td>\n",
              "      <td>504.1657</td>\n",
              "      <td>228.58</td>\n",
              "      <td>160.0</td>\n",
              "      <td>1828.64</td>\n",
              "      <td>36572.80</td>\n",
              "      <td>2013</td>\n",
              "      <td>7</td>\n",
              "      <td>5</td>\n",
              "      <td>4</td>\n",
              "    </tr>\n",
              "  </tbody>\n",
              "</table>\n",
              "<p>77895 rows × 26 columns</p>\n",
              "</div>"
            ],
            "text/plain": [
              "           # Coil Pattern  ... Day_Of_Month Week_of_Month\n",
              "0          1     Embossed  ...            3             1\n",
              "1          2     Embossed  ...            3             1\n",
              "2          3     Embossed  ...            3             1\n",
              "3          4     Embossed  ...            3             1\n",
              "4          5     Embossed  ...            3             1\n",
              "...      ...          ...  ...          ...           ...\n",
              "77890  77891     Embossed  ...            5             4\n",
              "77891  77892     Embossed  ...            5             4\n",
              "77892  77893     Embossed  ...            5             4\n",
              "77893  77894     Embossed  ...            5             4\n",
              "77894  77895     Embossed  ...            5             4\n",
              "\n",
              "[77895 rows x 26 columns]"
            ]
          },
          "metadata": {
            "tags": []
          },
          "execution_count": 169
        }
      ]
    },
    {
      "cell_type": "code",
      "metadata": {
        "id": "QvWYMWLF2QIa",
        "colab": {
          "base_uri": "https://localhost:8080/",
          "height": 315
        },
        "outputId": "bd91eb77-3429-48a0-bf5e-c8a36714c0dc"
      },
      "source": [
        "train.loc[[6964,6965,6966]]"
      ],
      "execution_count": null,
      "outputs": [
        {
          "output_type": "execute_result",
          "data": {
            "text/html": [
              "<div>\n",
              "<style scoped>\n",
              "    .dataframe tbody tr th:only-of-type {\n",
              "        vertical-align: middle;\n",
              "    }\n",
              "\n",
              "    .dataframe tbody tr th {\n",
              "        vertical-align: top;\n",
              "    }\n",
              "\n",
              "    .dataframe thead th {\n",
              "        text-align: right;\n",
              "    }\n",
              "</style>\n",
              "<table border=\"1\" class=\"dataframe\">\n",
              "  <thead>\n",
              "    <tr style=\"text-align: right;\">\n",
              "      <th></th>\n",
              "      <th>#</th>\n",
              "      <th>Coil Pattern</th>\n",
              "      <th>Group Name1</th>\n",
              "      <th>Product</th>\n",
              "      <th>Document Number</th>\n",
              "      <th>Doc. Date</th>\n",
              "      <th>Week</th>\n",
              "      <th>Month</th>\n",
              "      <th>Group Name2</th>\n",
              "      <th>Customer Code</th>\n",
              "      <th>Customer Name</th>\n",
              "      <th>Item Code</th>\n",
              "      <th>Item Description</th>\n",
              "      <th>Thickness</th>\n",
              "      <th>Width</th>\n",
              "      <th>Colour</th>\n",
              "      <th>Batch Number</th>\n",
              "      <th>ItemCost</th>\n",
              "      <th>Sales Price</th>\n",
              "      <th>Batch Quantity</th>\n",
              "      <th>Vat Value</th>\n",
              "      <th>Sales Amount</th>\n",
              "      <th>Year</th>\n",
              "      <th>Month_Of_year</th>\n",
              "      <th>Day_Of_Month</th>\n",
              "      <th>Week_of_Month</th>\n",
              "    </tr>\n",
              "  </thead>\n",
              "  <tbody>\n",
              "    <tr>\n",
              "      <th>6964</th>\n",
              "      <td>6965</td>\n",
              "      <td>Embossed</td>\n",
              "      <td>FG ALUMINIUM</td>\n",
              "      <td>FGALUM</td>\n",
              "      <td>1111</td>\n",
              "      <td>2011-04-28</td>\n",
              "      <td>Week 4</td>\n",
              "      <td>4</td>\n",
              "      <td>Other Local Group</td>\n",
              "      <td>CIQ0001</td>\n",
              "      <td>Queensway Aluminium Co.Ltd</td>\n",
              "      <td>FGAEC05506DIVY120000</td>\n",
              "      <td>FG 0.55 x 1200 ALUM Ivory Dimond</td>\n",
              "      <td>0.55</td>\n",
              "      <td>1200.0</td>\n",
              "      <td>Ivory</td>\n",
              "      <td>KKTA1100009949</td>\n",
              "      <td>555.8536</td>\n",
              "      <td>655.0</td>\n",
              "      <td>1620.0</td>\n",
              "      <td>53055.00</td>\n",
              "      <td>1061100.0</td>\n",
              "      <td>2011</td>\n",
              "      <td>4</td>\n",
              "      <td>28</td>\n",
              "      <td>3</td>\n",
              "    </tr>\n",
              "    <tr>\n",
              "      <th>6965</th>\n",
              "      <td>6966</td>\n",
              "      <td>Embossed</td>\n",
              "      <td>FG ALUMINIUM</td>\n",
              "      <td>FGALUM</td>\n",
              "      <td>1112</td>\n",
              "      <td>2011-04-28</td>\n",
              "      <td>Week 4</td>\n",
              "      <td>4</td>\n",
              "      <td>Other Local Group</td>\n",
              "      <td>CIQ0001</td>\n",
              "      <td>Queensway Aluminium Co.Ltd</td>\n",
              "      <td>FGAEC04506DDBN120000</td>\n",
              "      <td>FG 0.45 x 1200 ALUM Dark Brown Dimond</td>\n",
              "      <td>0.45</td>\n",
              "      <td>1200.0</td>\n",
              "      <td>Dark Brown</td>\n",
              "      <td>KKTA1100010396</td>\n",
              "      <td>553.5076</td>\n",
              "      <td>655.0</td>\n",
              "      <td>2065.0</td>\n",
              "      <td>67628.75</td>\n",
              "      <td>1352575.0</td>\n",
              "      <td>2011</td>\n",
              "      <td>4</td>\n",
              "      <td>28</td>\n",
              "      <td>3</td>\n",
              "    </tr>\n",
              "    <tr>\n",
              "      <th>6966</th>\n",
              "      <td>6967</td>\n",
              "      <td>Embossed</td>\n",
              "      <td>FG ALUMINIUM</td>\n",
              "      <td>FGALUM</td>\n",
              "      <td>1112</td>\n",
              "      <td>2011-04-28</td>\n",
              "      <td>Week 4</td>\n",
              "      <td>4</td>\n",
              "      <td>Other Local Group</td>\n",
              "      <td>CIQ0001</td>\n",
              "      <td>Queensway Aluminium Co.Ltd</td>\n",
              "      <td>FGAEC04506DDBN120000</td>\n",
              "      <td>FG 0.45 x 1200 ALUM Dark Brown Dimond</td>\n",
              "      <td>0.45</td>\n",
              "      <td>1200.0</td>\n",
              "      <td>Dark Brown</td>\n",
              "      <td>KKTA1100010307</td>\n",
              "      <td>553.5076</td>\n",
              "      <td>655.0</td>\n",
              "      <td>1950.0</td>\n",
              "      <td>63862.50</td>\n",
              "      <td>1277250.0</td>\n",
              "      <td>2011</td>\n",
              "      <td>4</td>\n",
              "      <td>28</td>\n",
              "      <td>3</td>\n",
              "    </tr>\n",
              "  </tbody>\n",
              "</table>\n",
              "</div>"
            ],
            "text/plain": [
              "         # Coil Pattern  ... Day_Of_Month Week_of_Month\n",
              "6964  6965     Embossed  ...           28             3\n",
              "6965  6966     Embossed  ...           28             3\n",
              "6966  6967     Embossed  ...           28             3\n",
              "\n",
              "[3 rows x 26 columns]"
            ]
          },
          "metadata": {
            "tags": []
          },
          "execution_count": 170
        }
      ]
    },
    {
      "cell_type": "code",
      "metadata": {
        "id": "22GXlFht2QIe",
        "colab": {
          "base_uri": "https://localhost:8080/",
          "height": 966
        },
        "outputId": "34c5ea29-3c94-4afb-e18c-fbe2f36971a0"
      },
      "source": [
        "train"
      ],
      "execution_count": null,
      "outputs": [
        {
          "output_type": "execute_result",
          "data": {
            "text/html": [
              "<div>\n",
              "<style scoped>\n",
              "    .dataframe tbody tr th:only-of-type {\n",
              "        vertical-align: middle;\n",
              "    }\n",
              "\n",
              "    .dataframe tbody tr th {\n",
              "        vertical-align: top;\n",
              "    }\n",
              "\n",
              "    .dataframe thead th {\n",
              "        text-align: right;\n",
              "    }\n",
              "</style>\n",
              "<table border=\"1\" class=\"dataframe\">\n",
              "  <thead>\n",
              "    <tr style=\"text-align: right;\">\n",
              "      <th></th>\n",
              "      <th>#</th>\n",
              "      <th>Coil Pattern</th>\n",
              "      <th>Group Name1</th>\n",
              "      <th>Product</th>\n",
              "      <th>Document Number</th>\n",
              "      <th>Doc. Date</th>\n",
              "      <th>Week</th>\n",
              "      <th>Month</th>\n",
              "      <th>Group Name2</th>\n",
              "      <th>Customer Code</th>\n",
              "      <th>Customer Name</th>\n",
              "      <th>Item Code</th>\n",
              "      <th>Item Description</th>\n",
              "      <th>Thickness</th>\n",
              "      <th>Width</th>\n",
              "      <th>Colour</th>\n",
              "      <th>Batch Number</th>\n",
              "      <th>ItemCost</th>\n",
              "      <th>Sales Price</th>\n",
              "      <th>Batch Quantity</th>\n",
              "      <th>Vat Value</th>\n",
              "      <th>Sales Amount</th>\n",
              "      <th>Year</th>\n",
              "      <th>Month_Of_year</th>\n",
              "      <th>Day_Of_Month</th>\n",
              "      <th>Week_of_Month</th>\n",
              "    </tr>\n",
              "  </thead>\n",
              "  <tbody>\n",
              "    <tr>\n",
              "      <th>0</th>\n",
              "      <td>1</td>\n",
              "      <td>Embossed</td>\n",
              "      <td>FG ALUMINIUM</td>\n",
              "      <td>FGALUM</td>\n",
              "      <td>1547</td>\n",
              "      <td>2010-08-03</td>\n",
              "      <td>Week 1</td>\n",
              "      <td>8</td>\n",
              "      <td>Local Group Tower Al</td>\n",
              "      <td>CIT0005</td>\n",
              "      <td>Tower Building Products</td>\n",
              "      <td>FGAEC07006DMBL120000</td>\n",
              "      <td>FG 0.70 x 1200 ALUM H.M Blue Dimond</td>\n",
              "      <td>0.70</td>\n",
              "      <td>1200.0</td>\n",
              "      <td>H.M Blue</td>\n",
              "      <td>KKTA0710A0217</td>\n",
              "      <td>508.8909</td>\n",
              "      <td>649.00</td>\n",
              "      <td>3600.0</td>\n",
              "      <td>116820.00</td>\n",
              "      <td>2336400.00</td>\n",
              "      <td>2010</td>\n",
              "      <td>8</td>\n",
              "      <td>3</td>\n",
              "      <td>1</td>\n",
              "    </tr>\n",
              "    <tr>\n",
              "      <th>1</th>\n",
              "      <td>2</td>\n",
              "      <td>Embossed</td>\n",
              "      <td>FG ALUMINIUM</td>\n",
              "      <td>FGALUM</td>\n",
              "      <td>1548</td>\n",
              "      <td>2010-08-03</td>\n",
              "      <td>Week 1</td>\n",
              "      <td>8</td>\n",
              "      <td>Local Group Tower Al</td>\n",
              "      <td>CIT0005</td>\n",
              "      <td>Tower Building Products</td>\n",
              "      <td>FGAEC07006DMBL120000</td>\n",
              "      <td>FG 0.70 x 1200 ALUM H.M Blue Dimond</td>\n",
              "      <td>0.70</td>\n",
              "      <td>1200.0</td>\n",
              "      <td>H.M Blue</td>\n",
              "      <td>KKTA0710A0220</td>\n",
              "      <td>508.8909</td>\n",
              "      <td>649.00</td>\n",
              "      <td>3250.0</td>\n",
              "      <td>105462.50</td>\n",
              "      <td>2109250.00</td>\n",
              "      <td>2010</td>\n",
              "      <td>8</td>\n",
              "      <td>3</td>\n",
              "      <td>1</td>\n",
              "    </tr>\n",
              "    <tr>\n",
              "      <th>2</th>\n",
              "      <td>3</td>\n",
              "      <td>Embossed</td>\n",
              "      <td>FG ALUMINIUM</td>\n",
              "      <td>FGALUM</td>\n",
              "      <td>1549</td>\n",
              "      <td>2010-08-03</td>\n",
              "      <td>Week 1</td>\n",
              "      <td>8</td>\n",
              "      <td>Local Group Tower Al</td>\n",
              "      <td>CIT0005</td>\n",
              "      <td>Tower Building Products</td>\n",
              "      <td>FGAEC07006DMBL120000</td>\n",
              "      <td>FG 0.70 x 1200 ALUM H.M Blue Dimond</td>\n",
              "      <td>0.70</td>\n",
              "      <td>1200.0</td>\n",
              "      <td>H.M Blue</td>\n",
              "      <td>KKTA0710A0214</td>\n",
              "      <td>508.8909</td>\n",
              "      <td>649.00</td>\n",
              "      <td>2170.0</td>\n",
              "      <td>70416.50</td>\n",
              "      <td>1408330.00</td>\n",
              "      <td>2010</td>\n",
              "      <td>8</td>\n",
              "      <td>3</td>\n",
              "      <td>1</td>\n",
              "    </tr>\n",
              "    <tr>\n",
              "      <th>3</th>\n",
              "      <td>4</td>\n",
              "      <td>Embossed</td>\n",
              "      <td>FG ALUMINIUM</td>\n",
              "      <td>FGALUM</td>\n",
              "      <td>1550</td>\n",
              "      <td>2010-08-03</td>\n",
              "      <td>Week 1</td>\n",
              "      <td>8</td>\n",
              "      <td>Local Group Tower Al</td>\n",
              "      <td>CIT0005</td>\n",
              "      <td>Tower Building Products</td>\n",
              "      <td>FGAEC07006DMBL120000</td>\n",
              "      <td>FG 0.70 x 1200 ALUM H.M Blue Dimond</td>\n",
              "      <td>0.70</td>\n",
              "      <td>1200.0</td>\n",
              "      <td>H.M Blue</td>\n",
              "      <td>KKTA0710A0219</td>\n",
              "      <td>508.8909</td>\n",
              "      <td>649.00</td>\n",
              "      <td>3410.0</td>\n",
              "      <td>110654.50</td>\n",
              "      <td>2213090.00</td>\n",
              "      <td>2010</td>\n",
              "      <td>8</td>\n",
              "      <td>3</td>\n",
              "      <td>1</td>\n",
              "    </tr>\n",
              "    <tr>\n",
              "      <th>4</th>\n",
              "      <td>5</td>\n",
              "      <td>Embossed</td>\n",
              "      <td>FG ALUMINIUM</td>\n",
              "      <td>FGALUM</td>\n",
              "      <td>1551</td>\n",
              "      <td>2010-08-03</td>\n",
              "      <td>Week 1</td>\n",
              "      <td>8</td>\n",
              "      <td>Local Group Tower Al</td>\n",
              "      <td>CIT0005</td>\n",
              "      <td>Tower Building Products</td>\n",
              "      <td>FGAEC07006DMBL120000</td>\n",
              "      <td>FG 0.70 x 1200 ALUM H.M Blue Dimond</td>\n",
              "      <td>0.70</td>\n",
              "      <td>1200.0</td>\n",
              "      <td>H.M Blue</td>\n",
              "      <td>KKTA0710A0122</td>\n",
              "      <td>508.8909</td>\n",
              "      <td>649.00</td>\n",
              "      <td>2815.0</td>\n",
              "      <td>91346.75</td>\n",
              "      <td>1826935.00</td>\n",
              "      <td>2010</td>\n",
              "      <td>8</td>\n",
              "      <td>3</td>\n",
              "      <td>1</td>\n",
              "    </tr>\n",
              "    <tr>\n",
              "      <th>...</th>\n",
              "      <td>...</td>\n",
              "      <td>...</td>\n",
              "      <td>...</td>\n",
              "      <td>...</td>\n",
              "      <td>...</td>\n",
              "      <td>...</td>\n",
              "      <td>...</td>\n",
              "      <td>...</td>\n",
              "      <td>...</td>\n",
              "      <td>...</td>\n",
              "      <td>...</td>\n",
              "      <td>...</td>\n",
              "      <td>...</td>\n",
              "      <td>...</td>\n",
              "      <td>...</td>\n",
              "      <td>...</td>\n",
              "      <td>...</td>\n",
              "      <td>...</td>\n",
              "      <td>...</td>\n",
              "      <td>...</td>\n",
              "      <td>...</td>\n",
              "      <td>...</td>\n",
              "      <td>...</td>\n",
              "      <td>...</td>\n",
              "      <td>...</td>\n",
              "      <td>...</td>\n",
              "    </tr>\n",
              "    <tr>\n",
              "      <th>77890</th>\n",
              "      <td>77891</td>\n",
              "      <td>Embossed</td>\n",
              "      <td>FG ALUMINIUM</td>\n",
              "      <td>FGALUM</td>\n",
              "      <td>2013101015</td>\n",
              "      <td>2013-07-05</td>\n",
              "      <td>Week 1</td>\n",
              "      <td>7</td>\n",
              "      <td>Local Group Tower Al</td>\n",
              "      <td>CIA0009</td>\n",
              "      <td>Aluminium Rolling Mills</td>\n",
              "      <td>FGAEC05506DPOR030000</td>\n",
              "      <td>FG 0.55 x 0300 ALUM P.O.Red Dimond</td>\n",
              "      <td>0.55</td>\n",
              "      <td>300.0</td>\n",
              "      <td>P.O Red</td>\n",
              "      <td>KKTBKM5286/09</td>\n",
              "      <td>580.0000</td>\n",
              "      <td>228.58</td>\n",
              "      <td>46.0</td>\n",
              "      <td>525.73</td>\n",
              "      <td>10514.68</td>\n",
              "      <td>2013</td>\n",
              "      <td>7</td>\n",
              "      <td>5</td>\n",
              "      <td>4</td>\n",
              "    </tr>\n",
              "    <tr>\n",
              "      <th>77891</th>\n",
              "      <td>77892</td>\n",
              "      <td>Embossed</td>\n",
              "      <td>FG ALUMINIUM</td>\n",
              "      <td>FGALUM</td>\n",
              "      <td>2013101015</td>\n",
              "      <td>2013-07-05</td>\n",
              "      <td>Week 1</td>\n",
              "      <td>7</td>\n",
              "      <td>Local Group Tower Al</td>\n",
              "      <td>CIA0009</td>\n",
              "      <td>Aluminium Rolling Mills</td>\n",
              "      <td>FGAEC05506DPOR040000</td>\n",
              "      <td>FG 0.55 x 0400 ALUM P.O.Red Dimond</td>\n",
              "      <td>0.55</td>\n",
              "      <td>400.0</td>\n",
              "      <td>P.O Red</td>\n",
              "      <td>KKTAT0085</td>\n",
              "      <td>580.0000</td>\n",
              "      <td>228.58</td>\n",
              "      <td>48.0</td>\n",
              "      <td>548.59</td>\n",
              "      <td>10971.84</td>\n",
              "      <td>2013</td>\n",
              "      <td>7</td>\n",
              "      <td>5</td>\n",
              "      <td>4</td>\n",
              "    </tr>\n",
              "    <tr>\n",
              "      <th>77892</th>\n",
              "      <td>77893</td>\n",
              "      <td>Embossed</td>\n",
              "      <td>FG ALUMINIUM</td>\n",
              "      <td>FGALUM</td>\n",
              "      <td>2013101015</td>\n",
              "      <td>2013-07-05</td>\n",
              "      <td>Week 1</td>\n",
              "      <td>7</td>\n",
              "      <td>Local Group Tower Al</td>\n",
              "      <td>CIA0009</td>\n",
              "      <td>Aluminium Rolling Mills</td>\n",
              "      <td>FGAEC05506DTCR045000</td>\n",
              "      <td>FG 0.55 x 0450 ALUM T.C Red Dimond</td>\n",
              "      <td>0.55</td>\n",
              "      <td>450.0</td>\n",
              "      <td>T.C Red</td>\n",
              "      <td>KKTA0210A0412AI</td>\n",
              "      <td>580.0000</td>\n",
              "      <td>228.58</td>\n",
              "      <td>60.0</td>\n",
              "      <td>685.74</td>\n",
              "      <td>13714.80</td>\n",
              "      <td>2013</td>\n",
              "      <td>7</td>\n",
              "      <td>5</td>\n",
              "      <td>4</td>\n",
              "    </tr>\n",
              "    <tr>\n",
              "      <th>77893</th>\n",
              "      <td>77894</td>\n",
              "      <td>Embossed</td>\n",
              "      <td>FG ALUMINIUM</td>\n",
              "      <td>FGALUM</td>\n",
              "      <td>2013101015</td>\n",
              "      <td>2013-07-05</td>\n",
              "      <td>Week 1</td>\n",
              "      <td>7</td>\n",
              "      <td>Local Group Tower Al</td>\n",
              "      <td>CIA0009</td>\n",
              "      <td>Aluminium Rolling Mills</td>\n",
              "      <td>FGAEC07006DDBN040000</td>\n",
              "      <td>FG 0.70 x 0400 ALUM Dark Brown Dimond</td>\n",
              "      <td>0.70</td>\n",
              "      <td>400.0</td>\n",
              "      <td>Dark Brown</td>\n",
              "      <td>KKTM0910A0245</td>\n",
              "      <td>504.1657</td>\n",
              "      <td>228.58</td>\n",
              "      <td>160.0</td>\n",
              "      <td>1828.64</td>\n",
              "      <td>36572.80</td>\n",
              "      <td>2013</td>\n",
              "      <td>7</td>\n",
              "      <td>5</td>\n",
              "      <td>4</td>\n",
              "    </tr>\n",
              "    <tr>\n",
              "      <th>77894</th>\n",
              "      <td>77895</td>\n",
              "      <td>Embossed</td>\n",
              "      <td>FG ALUMINIUM</td>\n",
              "      <td>FGALUM</td>\n",
              "      <td>2013101015</td>\n",
              "      <td>2013-07-05</td>\n",
              "      <td>Week 1</td>\n",
              "      <td>7</td>\n",
              "      <td>Local Group Tower Al</td>\n",
              "      <td>CIA0009</td>\n",
              "      <td>Aluminium Rolling Mills</td>\n",
              "      <td>FGAEC07006DDBN040000</td>\n",
              "      <td>FG 0.70 x 0400 ALUM Dark Brown Dimond</td>\n",
              "      <td>0.70</td>\n",
              "      <td>400.0</td>\n",
              "      <td>Dark Brown</td>\n",
              "      <td>KKTQ0910A0236</td>\n",
              "      <td>504.1657</td>\n",
              "      <td>228.58</td>\n",
              "      <td>160.0</td>\n",
              "      <td>1828.64</td>\n",
              "      <td>36572.80</td>\n",
              "      <td>2013</td>\n",
              "      <td>7</td>\n",
              "      <td>5</td>\n",
              "      <td>4</td>\n",
              "    </tr>\n",
              "  </tbody>\n",
              "</table>\n",
              "<p>77895 rows × 26 columns</p>\n",
              "</div>"
            ],
            "text/plain": [
              "           # Coil Pattern  ... Day_Of_Month Week_of_Month\n",
              "0          1     Embossed  ...            3             1\n",
              "1          2     Embossed  ...            3             1\n",
              "2          3     Embossed  ...            3             1\n",
              "3          4     Embossed  ...            3             1\n",
              "4          5     Embossed  ...            3             1\n",
              "...      ...          ...  ...          ...           ...\n",
              "77890  77891     Embossed  ...            5             4\n",
              "77891  77892     Embossed  ...            5             4\n",
              "77892  77893     Embossed  ...            5             4\n",
              "77893  77894     Embossed  ...            5             4\n",
              "77894  77895     Embossed  ...            5             4\n",
              "\n",
              "[77895 rows x 26 columns]"
            ]
          },
          "metadata": {
            "tags": []
          },
          "execution_count": 171
        }
      ]
    },
    {
      "cell_type": "code",
      "metadata": {
        "scrolled": true,
        "id": "NEb6PtUc2QIh",
        "colab": {
          "base_uri": "https://localhost:8080/",
          "height": 578
        },
        "outputId": "c451d179-68ed-4521-8bdd-b01ba8ed71a3"
      },
      "source": [
        "train.info()"
      ],
      "execution_count": null,
      "outputs": [
        {
          "output_type": "stream",
          "text": [
            "<class 'pandas.core.frame.DataFrame'>\n",
            "RangeIndex: 77895 entries, 0 to 77894\n",
            "Data columns (total 26 columns):\n",
            " #   Column            Non-Null Count  Dtype         \n",
            "---  ------            --------------  -----         \n",
            " 0   #                 77895 non-null  int64         \n",
            " 1   Coil Pattern      77895 non-null  object        \n",
            " 2   Group Name1       77895 non-null  object        \n",
            " 3   Product           77895 non-null  object        \n",
            " 4   Document Number   77895 non-null  int64         \n",
            " 5   Doc. Date         77895 non-null  datetime64[ns]\n",
            " 6   Week              77895 non-null  object        \n",
            " 7   Month             77895 non-null  int64         \n",
            " 8   Group Name2       77895 non-null  object        \n",
            " 9   Customer Code     77895 non-null  object        \n",
            " 10  Customer Name     77895 non-null  object        \n",
            " 11  Item Code         77895 non-null  object        \n",
            " 12  Item Description  77895 non-null  object        \n",
            " 13  Thickness         77895 non-null  float64       \n",
            " 14  Width             77895 non-null  float64       \n",
            " 15  Colour            77895 non-null  object        \n",
            " 16  Batch Number      77895 non-null  object        \n",
            " 17  ItemCost          77895 non-null  float64       \n",
            " 18  Sales Price       77895 non-null  float64       \n",
            " 19  Batch Quantity    77895 non-null  float64       \n",
            " 20  Vat Value         77895 non-null  float64       \n",
            " 21  Sales Amount      77895 non-null  float64       \n",
            " 22  Year              77895 non-null  int64         \n",
            " 23  Month_Of_year     77895 non-null  int64         \n",
            " 24  Day_Of_Month      77895 non-null  int64         \n",
            " 25  Week_of_Month     77895 non-null  int64         \n",
            "dtypes: datetime64[ns](1), float64(7), int64(7), object(11)\n",
            "memory usage: 15.5+ MB\n"
          ],
          "name": "stdout"
        }
      ]
    },
    {
      "cell_type": "code",
      "metadata": {
        "id": "AbTT7q9d2QIl"
      },
      "source": [
        "#subset the data tocapture relevant data\n",
        "train=train[['Customer Code','Coil Pattern','Group Name2','Thickness','Width','Colour','ItemCost','Sales Price','Vat Value','Sales Amount','Year','Month_Of_year','Day_Of_Month','Week_of_Month','Batch Quantity']]"
      ],
      "execution_count": null,
      "outputs": []
    },
    {
      "cell_type": "code",
      "metadata": {
        "id": "o_bxFrTB2QIp",
        "colab": {
          "base_uri": "https://localhost:8080/",
          "height": 102
        },
        "outputId": "9cf10ceb-3bd1-40a3-b628-9d2bc7fb5b0c"
      },
      "source": [
        "train.columns"
      ],
      "execution_count": null,
      "outputs": [
        {
          "output_type": "execute_result",
          "data": {
            "text/plain": [
              "Index(['Customer Code', 'Coil Pattern', 'Group Name2', 'Thickness', 'Width',\n",
              "       'Colour', 'ItemCost', 'Sales Price', 'Vat Value', 'Sales Amount',\n",
              "       'Year', 'Month_Of_year', 'Day_Of_Month', 'Week_of_Month',\n",
              "       'Batch Quantity'],\n",
              "      dtype='object')"
            ]
          },
          "metadata": {
            "tags": []
          },
          "execution_count": 174
        }
      ]
    },
    {
      "cell_type": "code",
      "metadata": {
        "id": "I6bKFueL2QIt"
      },
      "source": [
        "#change column names\n",
        "#Change coluumns names\n",
        "train.columns =['cust_code','coil_pattern','grp_name','thickness','width','colour','item_Cost','sales_price','vatval','sales_amt','year','month','day','week','order_qty']"
      ],
      "execution_count": null,
      "outputs": []
    },
    {
      "cell_type": "code",
      "metadata": {
        "id": "wJZetDqQ2QIy",
        "colab": {
          "base_uri": "https://localhost:8080/",
          "height": 779
        },
        "outputId": "c0737885-1756-45c2-c492-7936a49a7f30"
      },
      "source": [
        "train"
      ],
      "execution_count": null,
      "outputs": [
        {
          "output_type": "execute_result",
          "data": {
            "text/html": [
              "<div>\n",
              "<style scoped>\n",
              "    .dataframe tbody tr th:only-of-type {\n",
              "        vertical-align: middle;\n",
              "    }\n",
              "\n",
              "    .dataframe tbody tr th {\n",
              "        vertical-align: top;\n",
              "    }\n",
              "\n",
              "    .dataframe thead th {\n",
              "        text-align: right;\n",
              "    }\n",
              "</style>\n",
              "<table border=\"1\" class=\"dataframe\">\n",
              "  <thead>\n",
              "    <tr style=\"text-align: right;\">\n",
              "      <th></th>\n",
              "      <th>cust_code</th>\n",
              "      <th>coil_pattern</th>\n",
              "      <th>grp_name</th>\n",
              "      <th>thickness</th>\n",
              "      <th>width</th>\n",
              "      <th>colour</th>\n",
              "      <th>item_Cost</th>\n",
              "      <th>sales_price</th>\n",
              "      <th>vatval</th>\n",
              "      <th>sales_amt</th>\n",
              "      <th>year</th>\n",
              "      <th>month</th>\n",
              "      <th>day</th>\n",
              "      <th>week</th>\n",
              "      <th>order_qty</th>\n",
              "    </tr>\n",
              "  </thead>\n",
              "  <tbody>\n",
              "    <tr>\n",
              "      <th>0</th>\n",
              "      <td>CIT0005</td>\n",
              "      <td>Embossed</td>\n",
              "      <td>Local Group Tower Al</td>\n",
              "      <td>0.70</td>\n",
              "      <td>1200.0</td>\n",
              "      <td>H.M Blue</td>\n",
              "      <td>508.8909</td>\n",
              "      <td>649.00</td>\n",
              "      <td>116820.00</td>\n",
              "      <td>2336400.00</td>\n",
              "      <td>2010</td>\n",
              "      <td>8</td>\n",
              "      <td>3</td>\n",
              "      <td>1</td>\n",
              "      <td>3600.0</td>\n",
              "    </tr>\n",
              "    <tr>\n",
              "      <th>1</th>\n",
              "      <td>CIT0005</td>\n",
              "      <td>Embossed</td>\n",
              "      <td>Local Group Tower Al</td>\n",
              "      <td>0.70</td>\n",
              "      <td>1200.0</td>\n",
              "      <td>H.M Blue</td>\n",
              "      <td>508.8909</td>\n",
              "      <td>649.00</td>\n",
              "      <td>105462.50</td>\n",
              "      <td>2109250.00</td>\n",
              "      <td>2010</td>\n",
              "      <td>8</td>\n",
              "      <td>3</td>\n",
              "      <td>1</td>\n",
              "      <td>3250.0</td>\n",
              "    </tr>\n",
              "    <tr>\n",
              "      <th>2</th>\n",
              "      <td>CIT0005</td>\n",
              "      <td>Embossed</td>\n",
              "      <td>Local Group Tower Al</td>\n",
              "      <td>0.70</td>\n",
              "      <td>1200.0</td>\n",
              "      <td>H.M Blue</td>\n",
              "      <td>508.8909</td>\n",
              "      <td>649.00</td>\n",
              "      <td>70416.50</td>\n",
              "      <td>1408330.00</td>\n",
              "      <td>2010</td>\n",
              "      <td>8</td>\n",
              "      <td>3</td>\n",
              "      <td>1</td>\n",
              "      <td>2170.0</td>\n",
              "    </tr>\n",
              "    <tr>\n",
              "      <th>3</th>\n",
              "      <td>CIT0005</td>\n",
              "      <td>Embossed</td>\n",
              "      <td>Local Group Tower Al</td>\n",
              "      <td>0.70</td>\n",
              "      <td>1200.0</td>\n",
              "      <td>H.M Blue</td>\n",
              "      <td>508.8909</td>\n",
              "      <td>649.00</td>\n",
              "      <td>110654.50</td>\n",
              "      <td>2213090.00</td>\n",
              "      <td>2010</td>\n",
              "      <td>8</td>\n",
              "      <td>3</td>\n",
              "      <td>1</td>\n",
              "      <td>3410.0</td>\n",
              "    </tr>\n",
              "    <tr>\n",
              "      <th>4</th>\n",
              "      <td>CIT0005</td>\n",
              "      <td>Embossed</td>\n",
              "      <td>Local Group Tower Al</td>\n",
              "      <td>0.70</td>\n",
              "      <td>1200.0</td>\n",
              "      <td>H.M Blue</td>\n",
              "      <td>508.8909</td>\n",
              "      <td>649.00</td>\n",
              "      <td>91346.75</td>\n",
              "      <td>1826935.00</td>\n",
              "      <td>2010</td>\n",
              "      <td>8</td>\n",
              "      <td>3</td>\n",
              "      <td>1</td>\n",
              "      <td>2815.0</td>\n",
              "    </tr>\n",
              "    <tr>\n",
              "      <th>...</th>\n",
              "      <td>...</td>\n",
              "      <td>...</td>\n",
              "      <td>...</td>\n",
              "      <td>...</td>\n",
              "      <td>...</td>\n",
              "      <td>...</td>\n",
              "      <td>...</td>\n",
              "      <td>...</td>\n",
              "      <td>...</td>\n",
              "      <td>...</td>\n",
              "      <td>...</td>\n",
              "      <td>...</td>\n",
              "      <td>...</td>\n",
              "      <td>...</td>\n",
              "      <td>...</td>\n",
              "    </tr>\n",
              "    <tr>\n",
              "      <th>77890</th>\n",
              "      <td>CIA0009</td>\n",
              "      <td>Embossed</td>\n",
              "      <td>Local Group Tower Al</td>\n",
              "      <td>0.55</td>\n",
              "      <td>300.0</td>\n",
              "      <td>P.O Red</td>\n",
              "      <td>580.0000</td>\n",
              "      <td>228.58</td>\n",
              "      <td>525.73</td>\n",
              "      <td>10514.68</td>\n",
              "      <td>2013</td>\n",
              "      <td>7</td>\n",
              "      <td>5</td>\n",
              "      <td>4</td>\n",
              "      <td>46.0</td>\n",
              "    </tr>\n",
              "    <tr>\n",
              "      <th>77891</th>\n",
              "      <td>CIA0009</td>\n",
              "      <td>Embossed</td>\n",
              "      <td>Local Group Tower Al</td>\n",
              "      <td>0.55</td>\n",
              "      <td>400.0</td>\n",
              "      <td>P.O Red</td>\n",
              "      <td>580.0000</td>\n",
              "      <td>228.58</td>\n",
              "      <td>548.59</td>\n",
              "      <td>10971.84</td>\n",
              "      <td>2013</td>\n",
              "      <td>7</td>\n",
              "      <td>5</td>\n",
              "      <td>4</td>\n",
              "      <td>48.0</td>\n",
              "    </tr>\n",
              "    <tr>\n",
              "      <th>77892</th>\n",
              "      <td>CIA0009</td>\n",
              "      <td>Embossed</td>\n",
              "      <td>Local Group Tower Al</td>\n",
              "      <td>0.55</td>\n",
              "      <td>450.0</td>\n",
              "      <td>T.C Red</td>\n",
              "      <td>580.0000</td>\n",
              "      <td>228.58</td>\n",
              "      <td>685.74</td>\n",
              "      <td>13714.80</td>\n",
              "      <td>2013</td>\n",
              "      <td>7</td>\n",
              "      <td>5</td>\n",
              "      <td>4</td>\n",
              "      <td>60.0</td>\n",
              "    </tr>\n",
              "    <tr>\n",
              "      <th>77893</th>\n",
              "      <td>CIA0009</td>\n",
              "      <td>Embossed</td>\n",
              "      <td>Local Group Tower Al</td>\n",
              "      <td>0.70</td>\n",
              "      <td>400.0</td>\n",
              "      <td>Dark Brown</td>\n",
              "      <td>504.1657</td>\n",
              "      <td>228.58</td>\n",
              "      <td>1828.64</td>\n",
              "      <td>36572.80</td>\n",
              "      <td>2013</td>\n",
              "      <td>7</td>\n",
              "      <td>5</td>\n",
              "      <td>4</td>\n",
              "      <td>160.0</td>\n",
              "    </tr>\n",
              "    <tr>\n",
              "      <th>77894</th>\n",
              "      <td>CIA0009</td>\n",
              "      <td>Embossed</td>\n",
              "      <td>Local Group Tower Al</td>\n",
              "      <td>0.70</td>\n",
              "      <td>400.0</td>\n",
              "      <td>Dark Brown</td>\n",
              "      <td>504.1657</td>\n",
              "      <td>228.58</td>\n",
              "      <td>1828.64</td>\n",
              "      <td>36572.80</td>\n",
              "      <td>2013</td>\n",
              "      <td>7</td>\n",
              "      <td>5</td>\n",
              "      <td>4</td>\n",
              "      <td>160.0</td>\n",
              "    </tr>\n",
              "  </tbody>\n",
              "</table>\n",
              "<p>77895 rows × 15 columns</p>\n",
              "</div>"
            ],
            "text/plain": [
              "      cust_code coil_pattern              grp_name  ...  day  week order_qty\n",
              "0       CIT0005     Embossed  Local Group Tower Al  ...    3     1    3600.0\n",
              "1       CIT0005     Embossed  Local Group Tower Al  ...    3     1    3250.0\n",
              "2       CIT0005     Embossed  Local Group Tower Al  ...    3     1    2170.0\n",
              "3       CIT0005     Embossed  Local Group Tower Al  ...    3     1    3410.0\n",
              "4       CIT0005     Embossed  Local Group Tower Al  ...    3     1    2815.0\n",
              "...         ...          ...                   ...  ...  ...   ...       ...\n",
              "77890   CIA0009     Embossed  Local Group Tower Al  ...    5     4      46.0\n",
              "77891   CIA0009     Embossed  Local Group Tower Al  ...    5     4      48.0\n",
              "77892   CIA0009     Embossed  Local Group Tower Al  ...    5     4      60.0\n",
              "77893   CIA0009     Embossed  Local Group Tower Al  ...    5     4     160.0\n",
              "77894   CIA0009     Embossed  Local Group Tower Al  ...    5     4     160.0\n",
              "\n",
              "[77895 rows x 15 columns]"
            ]
          },
          "metadata": {
            "tags": []
          },
          "execution_count": 176
        }
      ]
    },
    {
      "cell_type": "code",
      "metadata": {
        "id": "Sbhprikl2QI3",
        "colab": {
          "base_uri": "https://localhost:8080/",
          "height": 391
        },
        "outputId": "d7f628c3-d9f4-451d-e5f2-7379627eef46"
      },
      "source": [
        "train.info()"
      ],
      "execution_count": null,
      "outputs": [
        {
          "output_type": "stream",
          "text": [
            "<class 'pandas.core.frame.DataFrame'>\n",
            "RangeIndex: 77895 entries, 0 to 77894\n",
            "Data columns (total 15 columns):\n",
            " #   Column        Non-Null Count  Dtype  \n",
            "---  ------        --------------  -----  \n",
            " 0   cust_code     77895 non-null  object \n",
            " 1   coil_pattern  77895 non-null  object \n",
            " 2   grp_name      77895 non-null  object \n",
            " 3   thickness     77895 non-null  float64\n",
            " 4   width         77895 non-null  float64\n",
            " 5   colour        77895 non-null  object \n",
            " 6   item_Cost     77895 non-null  float64\n",
            " 7   sales_price   77895 non-null  float64\n",
            " 8   vatval        77895 non-null  float64\n",
            " 9   sales_amt     77895 non-null  float64\n",
            " 10  year          77895 non-null  int64  \n",
            " 11  month         77895 non-null  int64  \n",
            " 12  day           77895 non-null  int64  \n",
            " 13  week          77895 non-null  int64  \n",
            " 14  order_qty     77895 non-null  float64\n",
            "dtypes: float64(7), int64(4), object(4)\n",
            "memory usage: 8.9+ MB\n"
          ],
          "name": "stdout"
        }
      ]
    },
    {
      "cell_type": "code",
      "metadata": {
        "id": "zRsfH_Xh2QI7"
      },
      "source": [
        "train_copy=train.copy()"
      ],
      "execution_count": null,
      "outputs": []
    },
    {
      "cell_type": "code",
      "metadata": {
        "id": "0U6L3uky2QI_",
        "colab": {
          "base_uri": "https://localhost:8080/",
          "height": 779
        },
        "outputId": "a9ffd095-349f-4483-c3e1-62ae6bb376d0"
      },
      "source": [
        "train_copy"
      ],
      "execution_count": null,
      "outputs": [
        {
          "output_type": "execute_result",
          "data": {
            "text/html": [
              "<div>\n",
              "<style scoped>\n",
              "    .dataframe tbody tr th:only-of-type {\n",
              "        vertical-align: middle;\n",
              "    }\n",
              "\n",
              "    .dataframe tbody tr th {\n",
              "        vertical-align: top;\n",
              "    }\n",
              "\n",
              "    .dataframe thead th {\n",
              "        text-align: right;\n",
              "    }\n",
              "</style>\n",
              "<table border=\"1\" class=\"dataframe\">\n",
              "  <thead>\n",
              "    <tr style=\"text-align: right;\">\n",
              "      <th></th>\n",
              "      <th>cust_code</th>\n",
              "      <th>coil_pattern</th>\n",
              "      <th>grp_name</th>\n",
              "      <th>thickness</th>\n",
              "      <th>width</th>\n",
              "      <th>colour</th>\n",
              "      <th>item_Cost</th>\n",
              "      <th>sales_price</th>\n",
              "      <th>vatval</th>\n",
              "      <th>sales_amt</th>\n",
              "      <th>year</th>\n",
              "      <th>month</th>\n",
              "      <th>day</th>\n",
              "      <th>week</th>\n",
              "      <th>order_qty</th>\n",
              "    </tr>\n",
              "  </thead>\n",
              "  <tbody>\n",
              "    <tr>\n",
              "      <th>0</th>\n",
              "      <td>CIT0005</td>\n",
              "      <td>Embossed</td>\n",
              "      <td>Local Group Tower Al</td>\n",
              "      <td>0.70</td>\n",
              "      <td>1200.0</td>\n",
              "      <td>H.M Blue</td>\n",
              "      <td>508.8909</td>\n",
              "      <td>649.00</td>\n",
              "      <td>116820.00</td>\n",
              "      <td>2336400.00</td>\n",
              "      <td>2010</td>\n",
              "      <td>8</td>\n",
              "      <td>3</td>\n",
              "      <td>1</td>\n",
              "      <td>3600.0</td>\n",
              "    </tr>\n",
              "    <tr>\n",
              "      <th>1</th>\n",
              "      <td>CIT0005</td>\n",
              "      <td>Embossed</td>\n",
              "      <td>Local Group Tower Al</td>\n",
              "      <td>0.70</td>\n",
              "      <td>1200.0</td>\n",
              "      <td>H.M Blue</td>\n",
              "      <td>508.8909</td>\n",
              "      <td>649.00</td>\n",
              "      <td>105462.50</td>\n",
              "      <td>2109250.00</td>\n",
              "      <td>2010</td>\n",
              "      <td>8</td>\n",
              "      <td>3</td>\n",
              "      <td>1</td>\n",
              "      <td>3250.0</td>\n",
              "    </tr>\n",
              "    <tr>\n",
              "      <th>2</th>\n",
              "      <td>CIT0005</td>\n",
              "      <td>Embossed</td>\n",
              "      <td>Local Group Tower Al</td>\n",
              "      <td>0.70</td>\n",
              "      <td>1200.0</td>\n",
              "      <td>H.M Blue</td>\n",
              "      <td>508.8909</td>\n",
              "      <td>649.00</td>\n",
              "      <td>70416.50</td>\n",
              "      <td>1408330.00</td>\n",
              "      <td>2010</td>\n",
              "      <td>8</td>\n",
              "      <td>3</td>\n",
              "      <td>1</td>\n",
              "      <td>2170.0</td>\n",
              "    </tr>\n",
              "    <tr>\n",
              "      <th>3</th>\n",
              "      <td>CIT0005</td>\n",
              "      <td>Embossed</td>\n",
              "      <td>Local Group Tower Al</td>\n",
              "      <td>0.70</td>\n",
              "      <td>1200.0</td>\n",
              "      <td>H.M Blue</td>\n",
              "      <td>508.8909</td>\n",
              "      <td>649.00</td>\n",
              "      <td>110654.50</td>\n",
              "      <td>2213090.00</td>\n",
              "      <td>2010</td>\n",
              "      <td>8</td>\n",
              "      <td>3</td>\n",
              "      <td>1</td>\n",
              "      <td>3410.0</td>\n",
              "    </tr>\n",
              "    <tr>\n",
              "      <th>4</th>\n",
              "      <td>CIT0005</td>\n",
              "      <td>Embossed</td>\n",
              "      <td>Local Group Tower Al</td>\n",
              "      <td>0.70</td>\n",
              "      <td>1200.0</td>\n",
              "      <td>H.M Blue</td>\n",
              "      <td>508.8909</td>\n",
              "      <td>649.00</td>\n",
              "      <td>91346.75</td>\n",
              "      <td>1826935.00</td>\n",
              "      <td>2010</td>\n",
              "      <td>8</td>\n",
              "      <td>3</td>\n",
              "      <td>1</td>\n",
              "      <td>2815.0</td>\n",
              "    </tr>\n",
              "    <tr>\n",
              "      <th>...</th>\n",
              "      <td>...</td>\n",
              "      <td>...</td>\n",
              "      <td>...</td>\n",
              "      <td>...</td>\n",
              "      <td>...</td>\n",
              "      <td>...</td>\n",
              "      <td>...</td>\n",
              "      <td>...</td>\n",
              "      <td>...</td>\n",
              "      <td>...</td>\n",
              "      <td>...</td>\n",
              "      <td>...</td>\n",
              "      <td>...</td>\n",
              "      <td>...</td>\n",
              "      <td>...</td>\n",
              "    </tr>\n",
              "    <tr>\n",
              "      <th>77890</th>\n",
              "      <td>CIA0009</td>\n",
              "      <td>Embossed</td>\n",
              "      <td>Local Group Tower Al</td>\n",
              "      <td>0.55</td>\n",
              "      <td>300.0</td>\n",
              "      <td>P.O Red</td>\n",
              "      <td>580.0000</td>\n",
              "      <td>228.58</td>\n",
              "      <td>525.73</td>\n",
              "      <td>10514.68</td>\n",
              "      <td>2013</td>\n",
              "      <td>7</td>\n",
              "      <td>5</td>\n",
              "      <td>4</td>\n",
              "      <td>46.0</td>\n",
              "    </tr>\n",
              "    <tr>\n",
              "      <th>77891</th>\n",
              "      <td>CIA0009</td>\n",
              "      <td>Embossed</td>\n",
              "      <td>Local Group Tower Al</td>\n",
              "      <td>0.55</td>\n",
              "      <td>400.0</td>\n",
              "      <td>P.O Red</td>\n",
              "      <td>580.0000</td>\n",
              "      <td>228.58</td>\n",
              "      <td>548.59</td>\n",
              "      <td>10971.84</td>\n",
              "      <td>2013</td>\n",
              "      <td>7</td>\n",
              "      <td>5</td>\n",
              "      <td>4</td>\n",
              "      <td>48.0</td>\n",
              "    </tr>\n",
              "    <tr>\n",
              "      <th>77892</th>\n",
              "      <td>CIA0009</td>\n",
              "      <td>Embossed</td>\n",
              "      <td>Local Group Tower Al</td>\n",
              "      <td>0.55</td>\n",
              "      <td>450.0</td>\n",
              "      <td>T.C Red</td>\n",
              "      <td>580.0000</td>\n",
              "      <td>228.58</td>\n",
              "      <td>685.74</td>\n",
              "      <td>13714.80</td>\n",
              "      <td>2013</td>\n",
              "      <td>7</td>\n",
              "      <td>5</td>\n",
              "      <td>4</td>\n",
              "      <td>60.0</td>\n",
              "    </tr>\n",
              "    <tr>\n",
              "      <th>77893</th>\n",
              "      <td>CIA0009</td>\n",
              "      <td>Embossed</td>\n",
              "      <td>Local Group Tower Al</td>\n",
              "      <td>0.70</td>\n",
              "      <td>400.0</td>\n",
              "      <td>Dark Brown</td>\n",
              "      <td>504.1657</td>\n",
              "      <td>228.58</td>\n",
              "      <td>1828.64</td>\n",
              "      <td>36572.80</td>\n",
              "      <td>2013</td>\n",
              "      <td>7</td>\n",
              "      <td>5</td>\n",
              "      <td>4</td>\n",
              "      <td>160.0</td>\n",
              "    </tr>\n",
              "    <tr>\n",
              "      <th>77894</th>\n",
              "      <td>CIA0009</td>\n",
              "      <td>Embossed</td>\n",
              "      <td>Local Group Tower Al</td>\n",
              "      <td>0.70</td>\n",
              "      <td>400.0</td>\n",
              "      <td>Dark Brown</td>\n",
              "      <td>504.1657</td>\n",
              "      <td>228.58</td>\n",
              "      <td>1828.64</td>\n",
              "      <td>36572.80</td>\n",
              "      <td>2013</td>\n",
              "      <td>7</td>\n",
              "      <td>5</td>\n",
              "      <td>4</td>\n",
              "      <td>160.0</td>\n",
              "    </tr>\n",
              "  </tbody>\n",
              "</table>\n",
              "<p>77895 rows × 15 columns</p>\n",
              "</div>"
            ],
            "text/plain": [
              "      cust_code coil_pattern              grp_name  ...  day  week order_qty\n",
              "0       CIT0005     Embossed  Local Group Tower Al  ...    3     1    3600.0\n",
              "1       CIT0005     Embossed  Local Group Tower Al  ...    3     1    3250.0\n",
              "2       CIT0005     Embossed  Local Group Tower Al  ...    3     1    2170.0\n",
              "3       CIT0005     Embossed  Local Group Tower Al  ...    3     1    3410.0\n",
              "4       CIT0005     Embossed  Local Group Tower Al  ...    3     1    2815.0\n",
              "...         ...          ...                   ...  ...  ...   ...       ...\n",
              "77890   CIA0009     Embossed  Local Group Tower Al  ...    5     4      46.0\n",
              "77891   CIA0009     Embossed  Local Group Tower Al  ...    5     4      48.0\n",
              "77892   CIA0009     Embossed  Local Group Tower Al  ...    5     4      60.0\n",
              "77893   CIA0009     Embossed  Local Group Tower Al  ...    5     4     160.0\n",
              "77894   CIA0009     Embossed  Local Group Tower Al  ...    5     4     160.0\n",
              "\n",
              "[77895 rows x 15 columns]"
            ]
          },
          "metadata": {
            "tags": []
          },
          "execution_count": 179
        }
      ]
    },
    {
      "cell_type": "code",
      "metadata": {
        "id": "MqfkdlZc2QJD"
      },
      "source": [
        "train_set=train.loc[train['year'].isin([2010,2011,2012,2013,2014])]"
      ],
      "execution_count": null,
      "outputs": []
    },
    {
      "cell_type": "code",
      "metadata": {
        "id": "kV3e4TSY2QJI",
        "colab": {
          "base_uri": "https://localhost:8080/",
          "height": 779
        },
        "outputId": "e8437cb3-49e2-435f-f078-e9892a62b69f"
      },
      "source": [
        "train_set"
      ],
      "execution_count": null,
      "outputs": [
        {
          "output_type": "execute_result",
          "data": {
            "text/html": [
              "<div>\n",
              "<style scoped>\n",
              "    .dataframe tbody tr th:only-of-type {\n",
              "        vertical-align: middle;\n",
              "    }\n",
              "\n",
              "    .dataframe tbody tr th {\n",
              "        vertical-align: top;\n",
              "    }\n",
              "\n",
              "    .dataframe thead th {\n",
              "        text-align: right;\n",
              "    }\n",
              "</style>\n",
              "<table border=\"1\" class=\"dataframe\">\n",
              "  <thead>\n",
              "    <tr style=\"text-align: right;\">\n",
              "      <th></th>\n",
              "      <th>cust_code</th>\n",
              "      <th>coil_pattern</th>\n",
              "      <th>grp_name</th>\n",
              "      <th>thickness</th>\n",
              "      <th>width</th>\n",
              "      <th>colour</th>\n",
              "      <th>item_Cost</th>\n",
              "      <th>sales_price</th>\n",
              "      <th>vatval</th>\n",
              "      <th>sales_amt</th>\n",
              "      <th>year</th>\n",
              "      <th>month</th>\n",
              "      <th>day</th>\n",
              "      <th>week</th>\n",
              "      <th>order_qty</th>\n",
              "    </tr>\n",
              "  </thead>\n",
              "  <tbody>\n",
              "    <tr>\n",
              "      <th>0</th>\n",
              "      <td>CIT0005</td>\n",
              "      <td>Embossed</td>\n",
              "      <td>Local Group Tower Al</td>\n",
              "      <td>0.70</td>\n",
              "      <td>1200.0</td>\n",
              "      <td>H.M Blue</td>\n",
              "      <td>508.8909</td>\n",
              "      <td>649.00</td>\n",
              "      <td>116820.00</td>\n",
              "      <td>2336400.00</td>\n",
              "      <td>2010</td>\n",
              "      <td>8</td>\n",
              "      <td>3</td>\n",
              "      <td>1</td>\n",
              "      <td>3600.0</td>\n",
              "    </tr>\n",
              "    <tr>\n",
              "      <th>1</th>\n",
              "      <td>CIT0005</td>\n",
              "      <td>Embossed</td>\n",
              "      <td>Local Group Tower Al</td>\n",
              "      <td>0.70</td>\n",
              "      <td>1200.0</td>\n",
              "      <td>H.M Blue</td>\n",
              "      <td>508.8909</td>\n",
              "      <td>649.00</td>\n",
              "      <td>105462.50</td>\n",
              "      <td>2109250.00</td>\n",
              "      <td>2010</td>\n",
              "      <td>8</td>\n",
              "      <td>3</td>\n",
              "      <td>1</td>\n",
              "      <td>3250.0</td>\n",
              "    </tr>\n",
              "    <tr>\n",
              "      <th>2</th>\n",
              "      <td>CIT0005</td>\n",
              "      <td>Embossed</td>\n",
              "      <td>Local Group Tower Al</td>\n",
              "      <td>0.70</td>\n",
              "      <td>1200.0</td>\n",
              "      <td>H.M Blue</td>\n",
              "      <td>508.8909</td>\n",
              "      <td>649.00</td>\n",
              "      <td>70416.50</td>\n",
              "      <td>1408330.00</td>\n",
              "      <td>2010</td>\n",
              "      <td>8</td>\n",
              "      <td>3</td>\n",
              "      <td>1</td>\n",
              "      <td>2170.0</td>\n",
              "    </tr>\n",
              "    <tr>\n",
              "      <th>3</th>\n",
              "      <td>CIT0005</td>\n",
              "      <td>Embossed</td>\n",
              "      <td>Local Group Tower Al</td>\n",
              "      <td>0.70</td>\n",
              "      <td>1200.0</td>\n",
              "      <td>H.M Blue</td>\n",
              "      <td>508.8909</td>\n",
              "      <td>649.00</td>\n",
              "      <td>110654.50</td>\n",
              "      <td>2213090.00</td>\n",
              "      <td>2010</td>\n",
              "      <td>8</td>\n",
              "      <td>3</td>\n",
              "      <td>1</td>\n",
              "      <td>3410.0</td>\n",
              "    </tr>\n",
              "    <tr>\n",
              "      <th>4</th>\n",
              "      <td>CIT0005</td>\n",
              "      <td>Embossed</td>\n",
              "      <td>Local Group Tower Al</td>\n",
              "      <td>0.70</td>\n",
              "      <td>1200.0</td>\n",
              "      <td>H.M Blue</td>\n",
              "      <td>508.8909</td>\n",
              "      <td>649.00</td>\n",
              "      <td>91346.75</td>\n",
              "      <td>1826935.00</td>\n",
              "      <td>2010</td>\n",
              "      <td>8</td>\n",
              "      <td>3</td>\n",
              "      <td>1</td>\n",
              "      <td>2815.0</td>\n",
              "    </tr>\n",
              "    <tr>\n",
              "      <th>...</th>\n",
              "      <td>...</td>\n",
              "      <td>...</td>\n",
              "      <td>...</td>\n",
              "      <td>...</td>\n",
              "      <td>...</td>\n",
              "      <td>...</td>\n",
              "      <td>...</td>\n",
              "      <td>...</td>\n",
              "      <td>...</td>\n",
              "      <td>...</td>\n",
              "      <td>...</td>\n",
              "      <td>...</td>\n",
              "      <td>...</td>\n",
              "      <td>...</td>\n",
              "      <td>...</td>\n",
              "    </tr>\n",
              "    <tr>\n",
              "      <th>77890</th>\n",
              "      <td>CIA0009</td>\n",
              "      <td>Embossed</td>\n",
              "      <td>Local Group Tower Al</td>\n",
              "      <td>0.55</td>\n",
              "      <td>300.0</td>\n",
              "      <td>P.O Red</td>\n",
              "      <td>580.0000</td>\n",
              "      <td>228.58</td>\n",
              "      <td>525.73</td>\n",
              "      <td>10514.68</td>\n",
              "      <td>2013</td>\n",
              "      <td>7</td>\n",
              "      <td>5</td>\n",
              "      <td>4</td>\n",
              "      <td>46.0</td>\n",
              "    </tr>\n",
              "    <tr>\n",
              "      <th>77891</th>\n",
              "      <td>CIA0009</td>\n",
              "      <td>Embossed</td>\n",
              "      <td>Local Group Tower Al</td>\n",
              "      <td>0.55</td>\n",
              "      <td>400.0</td>\n",
              "      <td>P.O Red</td>\n",
              "      <td>580.0000</td>\n",
              "      <td>228.58</td>\n",
              "      <td>548.59</td>\n",
              "      <td>10971.84</td>\n",
              "      <td>2013</td>\n",
              "      <td>7</td>\n",
              "      <td>5</td>\n",
              "      <td>4</td>\n",
              "      <td>48.0</td>\n",
              "    </tr>\n",
              "    <tr>\n",
              "      <th>77892</th>\n",
              "      <td>CIA0009</td>\n",
              "      <td>Embossed</td>\n",
              "      <td>Local Group Tower Al</td>\n",
              "      <td>0.55</td>\n",
              "      <td>450.0</td>\n",
              "      <td>T.C Red</td>\n",
              "      <td>580.0000</td>\n",
              "      <td>228.58</td>\n",
              "      <td>685.74</td>\n",
              "      <td>13714.80</td>\n",
              "      <td>2013</td>\n",
              "      <td>7</td>\n",
              "      <td>5</td>\n",
              "      <td>4</td>\n",
              "      <td>60.0</td>\n",
              "    </tr>\n",
              "    <tr>\n",
              "      <th>77893</th>\n",
              "      <td>CIA0009</td>\n",
              "      <td>Embossed</td>\n",
              "      <td>Local Group Tower Al</td>\n",
              "      <td>0.70</td>\n",
              "      <td>400.0</td>\n",
              "      <td>Dark Brown</td>\n",
              "      <td>504.1657</td>\n",
              "      <td>228.58</td>\n",
              "      <td>1828.64</td>\n",
              "      <td>36572.80</td>\n",
              "      <td>2013</td>\n",
              "      <td>7</td>\n",
              "      <td>5</td>\n",
              "      <td>4</td>\n",
              "      <td>160.0</td>\n",
              "    </tr>\n",
              "    <tr>\n",
              "      <th>77894</th>\n",
              "      <td>CIA0009</td>\n",
              "      <td>Embossed</td>\n",
              "      <td>Local Group Tower Al</td>\n",
              "      <td>0.70</td>\n",
              "      <td>400.0</td>\n",
              "      <td>Dark Brown</td>\n",
              "      <td>504.1657</td>\n",
              "      <td>228.58</td>\n",
              "      <td>1828.64</td>\n",
              "      <td>36572.80</td>\n",
              "      <td>2013</td>\n",
              "      <td>7</td>\n",
              "      <td>5</td>\n",
              "      <td>4</td>\n",
              "      <td>160.0</td>\n",
              "    </tr>\n",
              "  </tbody>\n",
              "</table>\n",
              "<p>68954 rows × 15 columns</p>\n",
              "</div>"
            ],
            "text/plain": [
              "      cust_code coil_pattern              grp_name  ...  day  week order_qty\n",
              "0       CIT0005     Embossed  Local Group Tower Al  ...    3     1    3600.0\n",
              "1       CIT0005     Embossed  Local Group Tower Al  ...    3     1    3250.0\n",
              "2       CIT0005     Embossed  Local Group Tower Al  ...    3     1    2170.0\n",
              "3       CIT0005     Embossed  Local Group Tower Al  ...    3     1    3410.0\n",
              "4       CIT0005     Embossed  Local Group Tower Al  ...    3     1    2815.0\n",
              "...         ...          ...                   ...  ...  ...   ...       ...\n",
              "77890   CIA0009     Embossed  Local Group Tower Al  ...    5     4      46.0\n",
              "77891   CIA0009     Embossed  Local Group Tower Al  ...    5     4      48.0\n",
              "77892   CIA0009     Embossed  Local Group Tower Al  ...    5     4      60.0\n",
              "77893   CIA0009     Embossed  Local Group Tower Al  ...    5     4     160.0\n",
              "77894   CIA0009     Embossed  Local Group Tower Al  ...    5     4     160.0\n",
              "\n",
              "[68954 rows x 15 columns]"
            ]
          },
          "metadata": {
            "tags": []
          },
          "execution_count": 181
        }
      ]
    },
    {
      "cell_type": "code",
      "metadata": {
        "id": "Z9CqD_bO2QJM"
      },
      "source": [
        "test_set=train.loc[train['year']==2015]"
      ],
      "execution_count": null,
      "outputs": []
    },
    {
      "cell_type": "code",
      "metadata": {
        "id": "GVgk7-392QJP",
        "colab": {
          "base_uri": "https://localhost:8080/",
          "height": 779
        },
        "outputId": "23bc9bd2-7875-40c1-b398-641f6b50dc6b"
      },
      "source": [
        "#checking if test is upto 12th month\n",
        "test_set.loc[test_set['month']==12]"
      ],
      "execution_count": null,
      "outputs": [
        {
          "output_type": "execute_result",
          "data": {
            "text/html": [
              "<div>\n",
              "<style scoped>\n",
              "    .dataframe tbody tr th:only-of-type {\n",
              "        vertical-align: middle;\n",
              "    }\n",
              "\n",
              "    .dataframe tbody tr th {\n",
              "        vertical-align: top;\n",
              "    }\n",
              "\n",
              "    .dataframe thead th {\n",
              "        text-align: right;\n",
              "    }\n",
              "</style>\n",
              "<table border=\"1\" class=\"dataframe\">\n",
              "  <thead>\n",
              "    <tr style=\"text-align: right;\">\n",
              "      <th></th>\n",
              "      <th>cust_code</th>\n",
              "      <th>coil_pattern</th>\n",
              "      <th>grp_name</th>\n",
              "      <th>thickness</th>\n",
              "      <th>width</th>\n",
              "      <th>colour</th>\n",
              "      <th>item_Cost</th>\n",
              "      <th>sales_price</th>\n",
              "      <th>vatval</th>\n",
              "      <th>sales_amt</th>\n",
              "      <th>year</th>\n",
              "      <th>month</th>\n",
              "      <th>day</th>\n",
              "      <th>week</th>\n",
              "      <th>order_qty</th>\n",
              "    </tr>\n",
              "  </thead>\n",
              "  <tbody>\n",
              "    <tr>\n",
              "      <th>38463</th>\n",
              "      <td>CIT0005</td>\n",
              "      <td>Embossed</td>\n",
              "      <td>Local Group Tower Al</td>\n",
              "      <td>0.50</td>\n",
              "      <td>1200.0</td>\n",
              "      <td>Grey Beige</td>\n",
              "      <td>611.4849</td>\n",
              "      <td>740.0</td>\n",
              "      <td>101232.00</td>\n",
              "      <td>2024640.0</td>\n",
              "      <td>2015</td>\n",
              "      <td>12</td>\n",
              "      <td>2</td>\n",
              "      <td>2</td>\n",
              "      <td>2736.0</td>\n",
              "    </tr>\n",
              "    <tr>\n",
              "      <th>38464</th>\n",
              "      <td>CIT0005</td>\n",
              "      <td>Embossed</td>\n",
              "      <td>Local Group Tower Al</td>\n",
              "      <td>0.50</td>\n",
              "      <td>1200.0</td>\n",
              "      <td>P.O Red</td>\n",
              "      <td>319.5298</td>\n",
              "      <td>740.0</td>\n",
              "      <td>61605.00</td>\n",
              "      <td>1232100.0</td>\n",
              "      <td>2015</td>\n",
              "      <td>12</td>\n",
              "      <td>2</td>\n",
              "      <td>2</td>\n",
              "      <td>1665.0</td>\n",
              "    </tr>\n",
              "    <tr>\n",
              "      <th>38465</th>\n",
              "      <td>CIT0005</td>\n",
              "      <td>Embossed</td>\n",
              "      <td>Local Group Tower Al</td>\n",
              "      <td>0.50</td>\n",
              "      <td>1200.0</td>\n",
              "      <td>P.O Red</td>\n",
              "      <td>319.5298</td>\n",
              "      <td>740.0</td>\n",
              "      <td>27713.00</td>\n",
              "      <td>554260.0</td>\n",
              "      <td>2015</td>\n",
              "      <td>12</td>\n",
              "      <td>2</td>\n",
              "      <td>2</td>\n",
              "      <td>749.0</td>\n",
              "    </tr>\n",
              "    <tr>\n",
              "      <th>38466</th>\n",
              "      <td>CIT0005</td>\n",
              "      <td>Embossed</td>\n",
              "      <td>Local Group Tower Al</td>\n",
              "      <td>0.55</td>\n",
              "      <td>1200.0</td>\n",
              "      <td>Nut Brown</td>\n",
              "      <td>596.5122</td>\n",
              "      <td>740.0</td>\n",
              "      <td>67044.00</td>\n",
              "      <td>1340880.0</td>\n",
              "      <td>2015</td>\n",
              "      <td>12</td>\n",
              "      <td>2</td>\n",
              "      <td>2</td>\n",
              "      <td>1812.0</td>\n",
              "    </tr>\n",
              "    <tr>\n",
              "      <th>38467</th>\n",
              "      <td>CIT0005</td>\n",
              "      <td>Embossed</td>\n",
              "      <td>Local Group Tower Al</td>\n",
              "      <td>0.55</td>\n",
              "      <td>1200.0</td>\n",
              "      <td>Nut Brown</td>\n",
              "      <td>596.5122</td>\n",
              "      <td>740.0</td>\n",
              "      <td>81696.00</td>\n",
              "      <td>1633920.0</td>\n",
              "      <td>2015</td>\n",
              "      <td>12</td>\n",
              "      <td>2</td>\n",
              "      <td>2</td>\n",
              "      <td>2208.0</td>\n",
              "    </tr>\n",
              "    <tr>\n",
              "      <th>...</th>\n",
              "      <td>...</td>\n",
              "      <td>...</td>\n",
              "      <td>...</td>\n",
              "      <td>...</td>\n",
              "      <td>...</td>\n",
              "      <td>...</td>\n",
              "      <td>...</td>\n",
              "      <td>...</td>\n",
              "      <td>...</td>\n",
              "      <td>...</td>\n",
              "      <td>...</td>\n",
              "      <td>...</td>\n",
              "      <td>...</td>\n",
              "      <td>...</td>\n",
              "      <td>...</td>\n",
              "    </tr>\n",
              "    <tr>\n",
              "      <th>77269</th>\n",
              "      <td>CEO0007</td>\n",
              "      <td>Un-Embossed</td>\n",
              "      <td>Local Non Group</td>\n",
              "      <td>0.15</td>\n",
              "      <td>750.0</td>\n",
              "      <td>Grey Beige</td>\n",
              "      <td>36.5132</td>\n",
              "      <td>85.0</td>\n",
              "      <td>17038.25</td>\n",
              "      <td>340765.0</td>\n",
              "      <td>2015</td>\n",
              "      <td>12</td>\n",
              "      <td>17</td>\n",
              "      <td>3</td>\n",
              "      <td>4009.0</td>\n",
              "    </tr>\n",
              "    <tr>\n",
              "      <th>77270</th>\n",
              "      <td>CEO0007</td>\n",
              "      <td>Un-Embossed</td>\n",
              "      <td>Local Non Group</td>\n",
              "      <td>0.15</td>\n",
              "      <td>750.0</td>\n",
              "      <td>Grey Beige</td>\n",
              "      <td>36.5132</td>\n",
              "      <td>85.0</td>\n",
              "      <td>15865.25</td>\n",
              "      <td>317305.0</td>\n",
              "      <td>2015</td>\n",
              "      <td>12</td>\n",
              "      <td>17</td>\n",
              "      <td>3</td>\n",
              "      <td>3733.0</td>\n",
              "    </tr>\n",
              "    <tr>\n",
              "      <th>77271</th>\n",
              "      <td>CEO0007</td>\n",
              "      <td>Un-Embossed</td>\n",
              "      <td>Local Non Group</td>\n",
              "      <td>0.15</td>\n",
              "      <td>750.0</td>\n",
              "      <td>Grey Beige</td>\n",
              "      <td>36.5132</td>\n",
              "      <td>85.0</td>\n",
              "      <td>16120.25</td>\n",
              "      <td>322405.0</td>\n",
              "      <td>2015</td>\n",
              "      <td>12</td>\n",
              "      <td>17</td>\n",
              "      <td>3</td>\n",
              "      <td>3793.0</td>\n",
              "    </tr>\n",
              "    <tr>\n",
              "      <th>77272</th>\n",
              "      <td>CEO0007</td>\n",
              "      <td>Un-Embossed</td>\n",
              "      <td>Local Non Group</td>\n",
              "      <td>0.15</td>\n",
              "      <td>750.0</td>\n",
              "      <td>Grey Beige</td>\n",
              "      <td>36.5132</td>\n",
              "      <td>85.0</td>\n",
              "      <td>20315.00</td>\n",
              "      <td>406300.0</td>\n",
              "      <td>2015</td>\n",
              "      <td>12</td>\n",
              "      <td>17</td>\n",
              "      <td>3</td>\n",
              "      <td>4780.0</td>\n",
              "    </tr>\n",
              "    <tr>\n",
              "      <th>77273</th>\n",
              "      <td>CEO0007</td>\n",
              "      <td>Un-Embossed</td>\n",
              "      <td>Local Non Group</td>\n",
              "      <td>0.15</td>\n",
              "      <td>750.0</td>\n",
              "      <td>Grey Beige</td>\n",
              "      <td>36.5132</td>\n",
              "      <td>85.0</td>\n",
              "      <td>9609.25</td>\n",
              "      <td>192185.0</td>\n",
              "      <td>2015</td>\n",
              "      <td>12</td>\n",
              "      <td>17</td>\n",
              "      <td>3</td>\n",
              "      <td>2261.0</td>\n",
              "    </tr>\n",
              "  </tbody>\n",
              "</table>\n",
              "<p>341 rows × 15 columns</p>\n",
              "</div>"
            ],
            "text/plain": [
              "      cust_code coil_pattern              grp_name  ...  day  week order_qty\n",
              "38463   CIT0005     Embossed  Local Group Tower Al  ...    2     2    2736.0\n",
              "38464   CIT0005     Embossed  Local Group Tower Al  ...    2     2    1665.0\n",
              "38465   CIT0005     Embossed  Local Group Tower Al  ...    2     2     749.0\n",
              "38466   CIT0005     Embossed  Local Group Tower Al  ...    2     2    1812.0\n",
              "38467   CIT0005     Embossed  Local Group Tower Al  ...    2     2    2208.0\n",
              "...         ...          ...                   ...  ...  ...   ...       ...\n",
              "77269   CEO0007  Un-Embossed       Local Non Group  ...   17     3    4009.0\n",
              "77270   CEO0007  Un-Embossed       Local Non Group  ...   17     3    3733.0\n",
              "77271   CEO0007  Un-Embossed       Local Non Group  ...   17     3    3793.0\n",
              "77272   CEO0007  Un-Embossed       Local Non Group  ...   17     3    4780.0\n",
              "77273   CEO0007  Un-Embossed       Local Non Group  ...   17     3    2261.0\n",
              "\n",
              "[341 rows x 15 columns]"
            ]
          },
          "metadata": {
            "tags": []
          },
          "execution_count": 183
        }
      ]
    },
    {
      "cell_type": "code",
      "metadata": {
        "id": "rzCduJYr2QJT"
      },
      "source": [
        "#storing as csv\n",
        "train_name='train.csv'\n",
        "test_name='test.csv'\n",
        "train_set.to_csv(train_name, encoding='utf-8', index=False)\n",
        "test_set.to_csv(test_name, encoding='utf-8', index=False)"
      ],
      "execution_count": null,
      "outputs": []
    },
    {
      "cell_type": "code",
      "metadata": {
        "id": "7m-VaywN2QJW"
      },
      "source": [
        "#storing as csv\n",
        "#file_name='sales.csv'\n",
        "#train.to_csv(file_name, encoding='utf-8', index=False)"
      ],
      "execution_count": null,
      "outputs": []
    },
    {
      "cell_type": "code",
      "metadata": {
        "id": "7IYNCdIc2QJa",
        "colab": {
          "base_uri": "https://localhost:8080/",
          "height": 391
        },
        "outputId": "2d28c7d7-eb7b-45ff-8f15-715f9b7bfaaa"
      },
      "source": [
        "train_set.info()"
      ],
      "execution_count": null,
      "outputs": [
        {
          "output_type": "stream",
          "text": [
            "<class 'pandas.core.frame.DataFrame'>\n",
            "Int64Index: 68954 entries, 0 to 77894\n",
            "Data columns (total 15 columns):\n",
            " #   Column        Non-Null Count  Dtype  \n",
            "---  ------        --------------  -----  \n",
            " 0   cust_code     68954 non-null  object \n",
            " 1   coil_pattern  68954 non-null  object \n",
            " 2   grp_name      68954 non-null  object \n",
            " 3   thickness     68954 non-null  float64\n",
            " 4   width         68954 non-null  float64\n",
            " 5   colour        68954 non-null  object \n",
            " 6   item_Cost     68954 non-null  float64\n",
            " 7   sales_price   68954 non-null  float64\n",
            " 8   vatval        68954 non-null  float64\n",
            " 9   sales_amt     68954 non-null  float64\n",
            " 10  year          68954 non-null  int64  \n",
            " 11  month         68954 non-null  int64  \n",
            " 12  day           68954 non-null  int64  \n",
            " 13  week          68954 non-null  int64  \n",
            " 14  order_qty     68954 non-null  float64\n",
            "dtypes: float64(7), int64(4), object(4)\n",
            "memory usage: 8.4+ MB\n"
          ],
          "name": "stdout"
        }
      ]
    },
    {
      "cell_type": "code",
      "metadata": {
        "id": "Rk-ZfNC52QJe",
        "colab": {
          "base_uri": "https://localhost:8080/",
          "height": 391
        },
        "outputId": "97a85152-3a7b-46db-8e0a-f6fb490fb588"
      },
      "source": [
        "test_set.info()"
      ],
      "execution_count": null,
      "outputs": [
        {
          "output_type": "stream",
          "text": [
            "<class 'pandas.core.frame.DataFrame'>\n",
            "Int64Index: 8941 entries, 34558 to 77393\n",
            "Data columns (total 15 columns):\n",
            " #   Column        Non-Null Count  Dtype  \n",
            "---  ------        --------------  -----  \n",
            " 0   cust_code     8941 non-null   object \n",
            " 1   coil_pattern  8941 non-null   object \n",
            " 2   grp_name      8941 non-null   object \n",
            " 3   thickness     8941 non-null   float64\n",
            " 4   width         8941 non-null   float64\n",
            " 5   colour        8941 non-null   object \n",
            " 6   item_Cost     8941 non-null   float64\n",
            " 7   sales_price   8941 non-null   float64\n",
            " 8   vatval        8941 non-null   float64\n",
            " 9   sales_amt     8941 non-null   float64\n",
            " 10  year          8941 non-null   int64  \n",
            " 11  month         8941 non-null   int64  \n",
            " 12  day           8941 non-null   int64  \n",
            " 13  week          8941 non-null   int64  \n",
            " 14  order_qty     8941 non-null   float64\n",
            "dtypes: float64(7), int64(4), object(4)\n",
            "memory usage: 1.1+ MB\n"
          ],
          "name": "stdout"
        }
      ]
    },
    {
      "cell_type": "code",
      "metadata": {
        "id": "-9wG1fA02QJj"
      },
      "source": [
        "from keras.callbacks import ModelCheckpoint\n",
        "from keras.models import Sequential\n",
        "from keras.layers import Dense, Activation, Flatten\n",
        "from sklearn.model_selection import train_test_split\n",
        "from sklearn.ensemble import RandomForestRegressor\n",
        "from sklearn.metrics import mean_absolute_error \n",
        "from matplotlib import pyplot as plt\n",
        "import seaborn as sb\n",
        "import matplotlib.pyplot as plt\n",
        "import pandas as pd\n",
        "import numpy as np\n",
        "import warnings \n",
        "warnings.filterwarnings('ignore')\n",
        "warnings.filterwarnings('ignore', category=DeprecationWarning)\n",
        "from xgboost import XGBRegressor"
      ],
      "execution_count": null,
      "outputs": []
    },
    {
      "cell_type": "code",
      "metadata": {
        "id": "4CtbVw8q2QJm"
      },
      "source": [
        "def get_data():\n",
        "    #get train data\n",
        "    train_data_path ='/content/train.csv'\n",
        "    train = pd.read_csv(train_data_path)\n",
        "    \n",
        "    #get test data\n",
        "    test_data_path ='/content/test.csv'\n",
        "    test = pd.read_csv(test_data_path)\n",
        "    \n",
        "    return train , test\n",
        "\n",
        "def get_combined_data():\n",
        "    #reading train data\n",
        "    train , test = get_data()\n",
        "    target = train.order_qty\n",
        "    target_test=test.order_qty\n",
        "    train.drop(['order_qty'],axis = 1 , inplace = True)\n",
        "    combined = train.append(test)\n",
        "    combined.reset_index(inplace=True)\n",
        "    combined.drop(['index','cust_code'], inplace=True, axis=1)\n",
        "    return combined, target,target_test\n",
        "\n",
        "#Load train and test data into pandas DataFrames\n",
        "train_data, test_data = get_data()\n",
        "\n",
        "#Combine train and test data to process them together\n",
        "combined, target,target_test =get_combined_data()"
      ],
      "execution_count": null,
      "outputs": []
    },
    {
      "cell_type": "code",
      "metadata": {
        "id": "NRB4gyaa2QJu",
        "colab": {
          "base_uri": "https://localhost:8080/",
          "height": 317
        },
        "outputId": "b3684e64-f61b-4a09-8c25-05888d82821c"
      },
      "source": [
        "combined.describe()"
      ],
      "execution_count": null,
      "outputs": [
        {
          "output_type": "execute_result",
          "data": {
            "text/html": [
              "<div>\n",
              "<style scoped>\n",
              "    .dataframe tbody tr th:only-of-type {\n",
              "        vertical-align: middle;\n",
              "    }\n",
              "\n",
              "    .dataframe tbody tr th {\n",
              "        vertical-align: top;\n",
              "    }\n",
              "\n",
              "    .dataframe thead th {\n",
              "        text-align: right;\n",
              "    }\n",
              "</style>\n",
              "<table border=\"1\" class=\"dataframe\">\n",
              "  <thead>\n",
              "    <tr style=\"text-align: right;\">\n",
              "      <th></th>\n",
              "      <th>thickness</th>\n",
              "      <th>width</th>\n",
              "      <th>item_Cost</th>\n",
              "      <th>sales_price</th>\n",
              "      <th>vatval</th>\n",
              "      <th>sales_amt</th>\n",
              "      <th>year</th>\n",
              "      <th>month</th>\n",
              "      <th>day</th>\n",
              "      <th>week</th>\n",
              "      <th>order_qty</th>\n",
              "    </tr>\n",
              "  </thead>\n",
              "  <tbody>\n",
              "    <tr>\n",
              "      <th>count</th>\n",
              "      <td>77895.000000</td>\n",
              "      <td>77895.000000</td>\n",
              "      <td>77895.000000</td>\n",
              "      <td>77895.000000</td>\n",
              "      <td>77895.000000</td>\n",
              "      <td>7.789500e+04</td>\n",
              "      <td>77895.000000</td>\n",
              "      <td>77895.000000</td>\n",
              "      <td>77895.000000</td>\n",
              "      <td>77895.000000</td>\n",
              "      <td>8941.000000</td>\n",
              "    </tr>\n",
              "    <tr>\n",
              "      <th>mean</th>\n",
              "      <td>0.415881</td>\n",
              "      <td>1106.816278</td>\n",
              "      <td>397.166822</td>\n",
              "      <td>426.736632</td>\n",
              "      <td>32806.147378</td>\n",
              "      <td>6.561229e+05</td>\n",
              "      <td>2012.405700</td>\n",
              "      <td>6.433083</td>\n",
              "      <td>16.537467</td>\n",
              "      <td>2.237396</td>\n",
              "      <td>1931.882675</td>\n",
              "    </tr>\n",
              "    <tr>\n",
              "      <th>std</th>\n",
              "      <td>0.157734</td>\n",
              "      <td>182.953521</td>\n",
              "      <td>400.871257</td>\n",
              "      <td>255.481633</td>\n",
              "      <td>32070.377669</td>\n",
              "      <td>6.414076e+05</td>\n",
              "      <td>1.515241</td>\n",
              "      <td>3.311571</td>\n",
              "      <td>8.564759</td>\n",
              "      <td>1.551514</td>\n",
              "      <td>1321.492266</td>\n",
              "    </tr>\n",
              "    <tr>\n",
              "      <th>min</th>\n",
              "      <td>0.150000</td>\n",
              "      <td>300.000000</td>\n",
              "      <td>0.000000</td>\n",
              "      <td>0.000000</td>\n",
              "      <td>0.000000</td>\n",
              "      <td>0.000000e+00</td>\n",
              "      <td>2010.000000</td>\n",
              "      <td>1.000000</td>\n",
              "      <td>1.000000</td>\n",
              "      <td>0.000000</td>\n",
              "      <td>14.000000</td>\n",
              "    </tr>\n",
              "    <tr>\n",
              "      <th>25%</th>\n",
              "      <td>0.300000</td>\n",
              "      <td>1200.000000</td>\n",
              "      <td>115.103600</td>\n",
              "      <td>110.000000</td>\n",
              "      <td>5061.590000</td>\n",
              "      <td>1.012318e+05</td>\n",
              "      <td>2011.000000</td>\n",
              "      <td>3.000000</td>\n",
              "      <td>9.000000</td>\n",
              "      <td>1.000000</td>\n",
              "      <td>723.000000</td>\n",
              "    </tr>\n",
              "    <tr>\n",
              "      <th>50%</th>\n",
              "      <td>0.450000</td>\n",
              "      <td>1200.000000</td>\n",
              "      <td>532.445300</td>\n",
              "      <td>450.000000</td>\n",
              "      <td>16269.000000</td>\n",
              "      <td>3.253800e+05</td>\n",
              "      <td>2012.000000</td>\n",
              "      <td>7.000000</td>\n",
              "      <td>17.000000</td>\n",
              "      <td>2.000000</td>\n",
              "      <td>1894.000000</td>\n",
              "    </tr>\n",
              "    <tr>\n",
              "      <th>75%</th>\n",
              "      <td>0.550000</td>\n",
              "      <td>1200.000000</td>\n",
              "      <td>560.028000</td>\n",
              "      <td>654.000000</td>\n",
              "      <td>60288.000000</td>\n",
              "      <td>1.205760e+06</td>\n",
              "      <td>2014.000000</td>\n",
              "      <td>9.000000</td>\n",
              "      <td>24.000000</td>\n",
              "      <td>4.000000</td>\n",
              "      <td>2783.000000</td>\n",
              "    </tr>\n",
              "    <tr>\n",
              "      <th>max</th>\n",
              "      <td>1.200000</td>\n",
              "      <td>1250.000000</td>\n",
              "      <td>36480.710000</td>\n",
              "      <td>1100.000000</td>\n",
              "      <td>156802.500000</td>\n",
              "      <td>3.136050e+06</td>\n",
              "      <td>2015.000000</td>\n",
              "      <td>12.000000</td>\n",
              "      <td>31.000000</td>\n",
              "      <td>6.000000</td>\n",
              "      <td>5550.000000</td>\n",
              "    </tr>\n",
              "  </tbody>\n",
              "</table>\n",
              "</div>"
            ],
            "text/plain": [
              "          thickness         width  ...          week    order_qty\n",
              "count  77895.000000  77895.000000  ...  77895.000000  8941.000000\n",
              "mean       0.415881   1106.816278  ...      2.237396  1931.882675\n",
              "std        0.157734    182.953521  ...      1.551514  1321.492266\n",
              "min        0.150000    300.000000  ...      0.000000    14.000000\n",
              "25%        0.300000   1200.000000  ...      1.000000   723.000000\n",
              "50%        0.450000   1200.000000  ...      2.000000  1894.000000\n",
              "75%        0.550000   1200.000000  ...      4.000000  2783.000000\n",
              "max        1.200000   1250.000000  ...      6.000000  5550.000000\n",
              "\n",
              "[8 rows x 11 columns]"
            ]
          },
          "metadata": {
            "tags": []
          },
          "execution_count": 190
        }
      ]
    },
    {
      "cell_type": "code",
      "metadata": {
        "id": "SP3FpBUY2QJ0"
      },
      "source": [
        "def get_cols_with_no_nans(df,col_type):\n",
        "    \n",
        "    '''\n",
        "    Arguments :\n",
        "    df : The dataframe to process\n",
        "    col_type : \n",
        "          num : to only get numerical columns with no nans\n",
        "          no_num : to only get nun-numerical columns with no nans\n",
        "          all : to get any columns with no nans    \n",
        "    '''\n",
        "    if (col_type == 'num'):\n",
        "        predictors = df.select_dtypes(exclude=['object'])\n",
        "    elif (col_type == 'no_num'):\n",
        "        predictors = df.select_dtypes(include=['object'])\n",
        "    elif (col_type == 'all'):\n",
        "        predictors = df\n",
        "    else :\n",
        "        print('Error : choose a type (num, no_num, all)')\n",
        "        return 0\n",
        "    cols_with_no_nans = []\n",
        "    for col in predictors.columns:\n",
        "        if not df[col].isnull().any():\n",
        "            cols_with_no_nans.append(col)\n",
        "    return cols_with_no_nans"
      ],
      "execution_count": null,
      "outputs": []
    },
    {
      "cell_type": "code",
      "metadata": {
        "id": "hp-D8gD52QJ5"
      },
      "source": [
        "num_cols = get_cols_with_no_nans(combined , 'num')\n",
        "cat_cols = get_cols_with_no_nans(combined , 'no_num')"
      ],
      "execution_count": null,
      "outputs": []
    },
    {
      "cell_type": "code",
      "metadata": {
        "id": "nRB9QoVx2QJ-",
        "colab": {
          "base_uri": "https://localhost:8080/",
          "height": 51
        },
        "outputId": "a5325e57-55e4-4a0d-e274-d38a2207fff9"
      },
      "source": [
        "print ('Number of numerical columns with no nan values :',len(num_cols))\n",
        "print ('Number of nun-numerical columns with no nan values :',len(cat_cols))"
      ],
      "execution_count": null,
      "outputs": [
        {
          "output_type": "stream",
          "text": [
            "Number of numerical columns with no nan values : 10\n",
            "Number of nun-numerical columns with no nan values : 3\n"
          ],
          "name": "stdout"
        }
      ]
    },
    {
      "cell_type": "code",
      "metadata": {
        "id": "3mn0kwls2QKB",
        "colab": {
          "base_uri": "https://localhost:8080/",
          "height": 607
        },
        "outputId": "1d3fadea-86a0-4e1b-ff2e-2635345db978"
      },
      "source": [
        "combined = combined[num_cols + cat_cols]\n",
        "combined.hist(figsize = (12,10))\n",
        "plt.show()"
      ],
      "execution_count": null,
      "outputs": [
        {
          "output_type": "display_data",
          "data": {
            "image/png": "[encoded data removed]",
            "text/plain": [
              "<Figure size 864x720 with 12 Axes>"
            ]
          },
          "metadata": {
            "tags": [],
            "needs_background": "light"
          }
        }
      ]
    },
    {
      "cell_type": "code",
      "metadata": {
        "id": "YtniWtHu2QKF",
        "colab": {
          "base_uri": "https://localhost:8080/",
          "height": 850
        },
        "outputId": "5d0725b0-af1c-49aa-bd6f-685928b5be17"
      },
      "source": [
        "train_data = train_data[num_cols + cat_cols]\n",
        "train_data['Target'] = target\n",
        "\n",
        "C_mat = train_data.corr()\n",
        "fig = plt.figure(figsize = (15,15))\n",
        "\n",
        "sb.heatmap(C_mat, vmax = .8, square = True)\n",
        "plt.show()"
      ],
      "execution_count": null,
      "outputs": [
        {
          "output_type": "display_data",
          "data": {
            "image/png": "[encoded data removed]",
            "text/plain": [
              "<Figure size 1080x1080 with 2 Axes>"
            ]
          },
          "metadata": {
            "tags": [],
            "needs_background": "light"
          }
        }
      ]
    },
    {
      "cell_type": "code",
      "metadata": {
        "id": "SuDYRfcC2QKL",
        "colab": {
          "base_uri": "https://localhost:8080/",
          "height": 51
        },
        "outputId": "1217f5f8-0b9c-4e55-ead4-c811c1aee95d"
      },
      "source": [
        "def oneHotEncode(df,colNames):\n",
        "    for col in colNames:\n",
        "        if( df[col].dtype == np.dtype('object')):\n",
        "            dummies = pd.get_dummies(df[col],prefix=col)\n",
        "            df = pd.concat([df,dummies],axis=1)\n",
        "\n",
        "            #drop the encoded column\n",
        "            df.drop([col],axis = 1 , inplace=True)\n",
        "    return df\n",
        "    \n",
        "\n",
        "print('There were {} columns before encoding categorical features'.format(combined.shape[1]))\n",
        "combined = oneHotEncode(combined, cat_cols)\n",
        "print('There are {} columns after encoding categorical features'.format(combined.shape[1]))"
      ],
      "execution_count": null,
      "outputs": [
        {
          "output_type": "stream",
          "text": [
            "There were 13 columns before encoding categorical features\n",
            "There are 78 columns after encoding categorical features\n"
          ],
          "name": "stdout"
        }
      ]
    },
    {
      "cell_type": "code",
      "metadata": {
        "id": "79VAssq52QKQ"
      },
      "source": [
        "l=len(train_set)\n",
        "def split_combined():\n",
        "    global combined\n",
        "    train = combined[:l]\n",
        "    test = combined[l:]\n",
        "\n",
        "    return train , test \n",
        "  \n",
        "train, test = split_combined()"
      ],
      "execution_count": null,
      "outputs": []
    },
    {
      "cell_type": "code",
      "metadata": {
        "id": "_u4oL2OS8lxv",
        "colab": {
          "base_uri": "https://localhost:8080/",
          "height": 34
        },
        "outputId": "3b0c7cbf-57dc-46f4-e7a5-4960b4b3989d"
      },
      "source": [
        "print(train.shape,test.shape)"
      ],
      "execution_count": null,
      "outputs": [
        {
          "output_type": "stream",
          "text": [
            "(68954, 78) (8941, 78)\n"
          ],
          "name": "stdout"
        }
      ]
    },
    {
      "cell_type": "code",
      "metadata": {
        "id": "AmcXaR-U2QKq"
      },
      "source": [
        "#trying another algorithm\n",
        "train_X, val_X, train_y, val_y = train_test_split(train, target, test_size = 0.25, random_state = 14)\n"
      ],
      "execution_count": null,
      "outputs": []
    },
    {
      "cell_type": "code",
      "metadata": {
        "id": "0Ti66tgz2QKV",
        "colab": {
          "base_uri": "https://localhost:8080/",
          "height": 323
        },
        "outputId": "dd34ac0b-78c3-4f63-c64c-580f90c18fb0"
      },
      "source": [
        "# define baseline model\n",
        "def baseline_model():\n",
        "  NN_model = Sequential()\n",
        "\n",
        "# The Input Layer :\n",
        "  NN_model.add(Dense(100, kernel_initializer='normal',input_dim = train.shape[1], activation='relu'))\n",
        "\n",
        "# The Hidden Layers :\n",
        "  NN_model.add(Dense(50, kernel_initializer='normal',activation='relu'))\n",
        "  NN_model.add(Dense(25, kernel_initializer='normal',activation='relu'))\n",
        "  NN_model.add(Dense(25, kernel_initializer='normal',activation='relu'))\n",
        "\n",
        "# The Output Layer :\n",
        "  NN_model.add(Dense(1, kernel_initializer='normal',activation='linear'))\n",
        "\n",
        "# Compile the network :\n",
        "  NN_model.compile(loss='mean_absolute_error', optimizer='adam', metrics=['mean_absolute_error','accuracy','mse'])\n",
        "  NN_model.summary()\n",
        "  return model\n",
        "\n",
        "estimator = KerasClassifier(build_fn=baseline_model, nb_epoch=200, batch_size=5, verbose=0)\n",
        "model = baseline_model()\n",
        "\n"
      ],
      "execution_count": null,
      "outputs": [
        {
          "output_type": "stream",
          "text": [
            "Model: \"sequential_4\"\n",
            "_________________________________________________________________\n",
            "Layer (type)                 Output Shape              Param #   \n",
            "=================================================================\n",
            "dense_10 (Dense)             (None, 100)               7900      \n",
            "_________________________________________________________________\n",
            "dense_11 (Dense)             (None, 50)                5050      \n",
            "_________________________________________________________________\n",
            "dense_12 (Dense)             (None, 25)                1275      \n",
            "_________________________________________________________________\n",
            "dense_13 (Dense)             (None, 25)                650       \n",
            "_________________________________________________________________\n",
            "dense_14 (Dense)             (None, 1)                 26        \n",
            "=================================================================\n",
            "Total params: 14,901\n",
            "Trainable params: 14,901\n",
            "Non-trainable params: 0\n",
            "_________________________________________________________________\n"
          ],
          "name": "stdout"
        }
      ]
    },
    {
      "cell_type": "code",
      "metadata": {
        "id": "BH71k9Tr2QKZ"
      },
      "source": [
        "#defining a checkpoint for best model\n",
        "checkpoint_name = 'Weights-{epoch:03d}--{val_loss:.5f}.hdf5' \n",
        "checkpoint = ModelCheckpoint(checkpoint_name, monitor='val_loss', verbose = 1, save_best_only = True, mode ='auto')\n",
        "callbacks_list = [checkpoint]"
      ],
      "execution_count": null,
      "outputs": []
    },
    {
      "cell_type": "code",
      "metadata": {
        "id": "vbV1MELszVjW"
      },
      "source": [
        "#train the model\n",
        "#history=NN_model.fit(train, target, epochs=500, batch_size=32, validation_split = 0.2, callbacks=callbacks_list)"
      ],
      "execution_count": null,
      "outputs": []
    },
    {
      "cell_type": "code",
      "metadata": {
        "id": "ahw_LLW12QKd",
        "colab": {
          "base_uri": "https://localhost:8080/",
          "height": 1000
        },
        "outputId": "605807ac-5065-4ae7-acb9-b18ab562a5f7"
      },
      "source": [
        "model=NN_model.fit(train_X,train_y, epochs=40, batch_size=32, validation_data =(val_X,val_y),callbacks=callbacks_list)\n"
      ],
      "execution_count": null,
      "outputs": [
        {
          "output_type": "stream",
          "text": [
            "Train on 51715 samples, validate on 17239 samples\n",
            "Epoch 1/40\n",
            "51715/51715 [==============================] - 3s 56us/step - loss: 471.8939 - mean_absolute_error: 471.8944 - accuracy: 0.0030 - mse: 933345.5625 - val_loss: 184.3244 - val_mean_absolute_error: 184.3244 - val_accuracy: 0.0047 - val_mse: 134765.1094\n",
            "\n",
            "Epoch 00001: val_loss improved from inf to 184.32443, saving model to Weights-001--184.32443.hdf5\n",
            "Epoch 2/40\n",
            "51715/51715 [==============================] - 3s 55us/step - loss: 197.1489 - mean_absolute_error: 197.1490 - accuracy: 0.0047 - mse: 144881.2031 - val_loss: 169.0660 - val_mean_absolute_error: 169.0659 - val_accuracy: 0.0022 - val_mse: 110227.8047\n",
            "\n",
            "Epoch 00002: val_loss improved from 184.32443 to 169.06596, saving model to Weights-002--169.06596.hdf5\n",
            "Epoch 3/40\n",
            "51715/51715 [==============================] - 3s 52us/step - loss: 175.0868 - mean_absolute_error: 175.0868 - accuracy: 0.0055 - mse: 122740.7109 - val_loss: 153.9082 - val_mean_absolute_error: 153.9082 - val_accuracy: 0.0045 - val_mse: 106894.6406\n",
            "\n",
            "Epoch 00003: val_loss improved from 169.06596 to 153.90818, saving model to Weights-003--153.90818.hdf5\n",
            "Epoch 4/40\n",
            "51715/51715 [==============================] - 3s 52us/step - loss: 158.8973 - mean_absolute_error: 158.8972 - accuracy: 0.0080 - mse: 105286.7344 - val_loss: 194.6543 - val_mean_absolute_error: 194.6543 - val_accuracy: 0.0055 - val_mse: 150188.4375\n",
            "\n",
            "Epoch 00004: val_loss did not improve from 153.90818\n",
            "Epoch 5/40\n",
            "51715/51715 [==============================] - 3s 53us/step - loss: 142.8346 - mean_absolute_error: 142.8344 - accuracy: 0.0085 - mse: 81498.5078 - val_loss: 130.1533 - val_mean_absolute_error: 130.1533 - val_accuracy: 0.0114 - val_mse: 52970.6562\n",
            "\n",
            "Epoch 00005: val_loss improved from 153.90818 to 130.15327, saving model to Weights-005--130.15327.hdf5\n",
            "Epoch 6/40\n",
            "51715/51715 [==============================] - 3s 53us/step - loss: 136.9437 - mean_absolute_error: 136.9436 - accuracy: 0.0085 - mse: 74325.3594 - val_loss: 142.0203 - val_mean_absolute_error: 142.0203 - val_accuracy: 0.0049 - val_mse: 97808.2188\n",
            "\n",
            "Epoch 00006: val_loss did not improve from 130.15327\n",
            "Epoch 7/40\n",
            "51715/51715 [==============================] - 3s 53us/step - loss: 125.8762 - mean_absolute_error: 125.8763 - accuracy: 0.0085 - mse: 62422.0508 - val_loss: 148.3831 - val_mean_absolute_error: 148.3832 - val_accuracy: 0.0133 - val_mse: 84144.6328\n",
            "\n",
            "Epoch 00007: val_loss did not improve from 130.15327\n",
            "Epoch 8/40\n",
            "51715/51715 [==============================] - 3s 53us/step - loss: 118.8585 - mean_absolute_error: 118.8585 - accuracy: 0.0102 - mse: 54140.4922 - val_loss: 135.0374 - val_mean_absolute_error: 135.0374 - val_accuracy: 0.0160 - val_mse: 54862.0508\n",
            "\n",
            "Epoch 00008: val_loss did not improve from 130.15327\n",
            "Epoch 9/40\n",
            "51715/51715 [==============================] - 3s 53us/step - loss: 116.7291 - mean_absolute_error: 116.7291 - accuracy: 0.0103 - mse: 53636.4141 - val_loss: 122.6034 - val_mean_absolute_error: 122.6033 - val_accuracy: 0.0190 - val_mse: 48464.8867\n",
            "\n",
            "Epoch 00009: val_loss improved from 130.15327 to 122.60336, saving model to Weights-009--122.60336.hdf5\n",
            "Epoch 10/40\n",
            "51715/51715 [==============================] - 3s 54us/step - loss: 113.7863 - mean_absolute_error: 113.7861 - accuracy: 0.0105 - mse: 50137.1406 - val_loss: 119.4703 - val_mean_absolute_error: 119.4703 - val_accuracy: 0.0146 - val_mse: 48355.4453\n",
            "\n",
            "Epoch 00010: val_loss improved from 122.60336 to 119.47035, saving model to Weights-010--119.47035.hdf5\n",
            "Epoch 11/40\n",
            "51715/51715 [==============================] - 3s 53us/step - loss: 112.3341 - mean_absolute_error: 112.3340 - accuracy: 0.0103 - mse: 49045.6875 - val_loss: 101.8836 - val_mean_absolute_error: 101.8836 - val_accuracy: 0.0204 - val_mse: 42466.5273\n",
            "\n",
            "Epoch 00011: val_loss improved from 119.47035 to 101.88358, saving model to Weights-011--101.88358.hdf5\n",
            "Epoch 12/40\n",
            "51715/51715 [==============================] - 3s 54us/step - loss: 106.2794 - mean_absolute_error: 106.2794 - accuracy: 0.0103 - mse: 43087.1250 - val_loss: 87.5389 - val_mean_absolute_error: 87.5389 - val_accuracy: 0.0223 - val_mse: 30951.0039\n",
            "\n",
            "Epoch 00012: val_loss improved from 101.88358 to 87.53886, saving model to Weights-012--87.53886.hdf5\n",
            "Epoch 13/40\n",
            "51715/51715 [==============================] - 3s 53us/step - loss: 99.4391 - mean_absolute_error: 99.4391 - accuracy: 0.0109 - mse: 37251.5781 - val_loss: 150.3357 - val_mean_absolute_error: 150.3357 - val_accuracy: 0.0205 - val_mse: 72803.4453\n",
            "\n",
            "Epoch 00013: val_loss did not improve from 87.53886\n",
            "Epoch 14/40\n",
            "51715/51715 [==============================] - 3s 55us/step - loss: 99.0354 - mean_absolute_error: 99.0354 - accuracy: 0.0112 - mse: 36543.5547 - val_loss: 134.7433 - val_mean_absolute_error: 134.7432 - val_accuracy: 0.0034 - val_mse: 49589.1055\n",
            "\n",
            "Epoch 00014: val_loss did not improve from 87.53886\n",
            "Epoch 15/40\n",
            "51715/51715 [==============================] - 3s 54us/step - loss: 98.1740 - mean_absolute_error: 98.1739 - accuracy: 0.0116 - mse: 35930.2266 - val_loss: 155.0216 - val_mean_absolute_error: 155.0217 - val_accuracy: 0.0019 - val_mse: 97847.6406\n",
            "\n",
            "Epoch 00015: val_loss did not improve from 87.53886\n",
            "Epoch 16/40\n",
            "51715/51715 [==============================] - 3s 53us/step - loss: 92.9942 - mean_absolute_error: 92.9942 - accuracy: 0.0129 - mse: 32315.0098 - val_loss: 122.5614 - val_mean_absolute_error: 122.5614 - val_accuracy: 0.0116 - val_mse: 82790.1016\n",
            "\n",
            "Epoch 00016: val_loss did not improve from 87.53886\n",
            "Epoch 17/40\n",
            "51715/51715 [==============================] - 3s 53us/step - loss: 97.2581 - mean_absolute_error: 97.2581 - accuracy: 0.0135 - mse: 38412.0898 - val_loss: 84.9255 - val_mean_absolute_error: 84.9256 - val_accuracy: 0.0056 - val_mse: 22925.6797\n",
            "\n",
            "Epoch 00017: val_loss improved from 87.53886 to 84.92555, saving model to Weights-017--84.92555.hdf5\n",
            "Epoch 18/40\n",
            "51715/51715 [==============================] - 3s 54us/step - loss: 94.0367 - mean_absolute_error: 94.0367 - accuracy: 0.0138 - mse: 34714.8320 - val_loss: 84.7375 - val_mean_absolute_error: 84.7375 - val_accuracy: 0.0166 - val_mse: 27234.7773\n",
            "\n",
            "Epoch 00018: val_loss improved from 84.92555 to 84.73748, saving model to Weights-018--84.73748.hdf5\n",
            "Epoch 19/40\n",
            "51715/51715 [==============================] - 3s 54us/step - loss: 88.1560 - mean_absolute_error: 88.1560 - accuracy: 0.0148 - mse: 28443.1816 - val_loss: 69.8868 - val_mean_absolute_error: 69.8868 - val_accuracy: 0.0192 - val_mse: 17347.4980\n",
            "\n",
            "Epoch 00019: val_loss improved from 84.73748 to 69.88681, saving model to Weights-019--69.88681.hdf5\n",
            "Epoch 20/40\n",
            "51715/51715 [==============================] - 3s 54us/step - loss: 84.9496 - mean_absolute_error: 84.9495 - accuracy: 0.0143 - mse: 26540.1973 - val_loss: 98.3004 - val_mean_absolute_error: 98.3005 - val_accuracy: 0.0285 - val_mse: 36249.4883\n",
            "\n",
            "Epoch 00020: val_loss did not improve from 69.88681\n",
            "Epoch 21/40\n",
            "51715/51715 [==============================] - 3s 56us/step - loss: 86.1248 - mean_absolute_error: 86.1247 - accuracy: 0.0155 - mse: 27684.7930 - val_loss: 124.4255 - val_mean_absolute_error: 124.4255 - val_accuracy: 0.0057 - val_mse: 62774.6836\n",
            "\n",
            "Epoch 00021: val_loss did not improve from 69.88681\n",
            "Epoch 22/40\n",
            "51715/51715 [==============================] - 3s 53us/step - loss: 84.3809 - mean_absolute_error: 84.3808 - accuracy: 0.0151 - mse: 25912.2090 - val_loss: 111.6101 - val_mean_absolute_error: 111.6100 - val_accuracy: 0.0256 - val_mse: 45340.2578\n",
            "\n",
            "Epoch 00022: val_loss did not improve from 69.88681\n",
            "Epoch 23/40\n",
            "51715/51715 [==============================] - 3s 54us/step - loss: 84.2046 - mean_absolute_error: 84.2047 - accuracy: 0.0132 - mse: 26251.9961 - val_loss: 75.1521 - val_mean_absolute_error: 75.1521 - val_accuracy: 0.0166 - val_mse: 21164.3789\n",
            "\n",
            "Epoch 00023: val_loss did not improve from 69.88681\n",
            "Epoch 24/40\n",
            "51715/51715 [==============================] - 3s 52us/step - loss: 83.7747 - mean_absolute_error: 83.7746 - accuracy: 0.0153 - mse: 25792.6777 - val_loss: 62.7798 - val_mean_absolute_error: 62.7798 - val_accuracy: 0.0075 - val_mse: 12999.0469\n",
            "\n",
            "Epoch 00024: val_loss improved from 69.88681 to 62.77979, saving model to Weights-024--62.77979.hdf5\n",
            "Epoch 25/40\n",
            "51715/51715 [==============================] - 3s 54us/step - loss: 76.6104 - mean_absolute_error: 76.6104 - accuracy: 0.0157 - mse: 21444.6758 - val_loss: 108.9893 - val_mean_absolute_error: 108.9893 - val_accuracy: 0.0075 - val_mse: 33698.6445\n",
            "\n",
            "Epoch 00025: val_loss did not improve from 62.77979\n",
            "Epoch 26/40\n",
            "51715/51715 [==============================] - 3s 59us/step - loss: 79.8666 - mean_absolute_error: 79.8666 - accuracy: 0.0163 - mse: 23432.0000 - val_loss: 98.5244 - val_mean_absolute_error: 98.5243 - val_accuracy: 0.0212 - val_mse: 25534.9590\n",
            "\n",
            "Epoch 00026: val_loss did not improve from 62.77979\n",
            "Epoch 27/40\n",
            "51715/51715 [==============================] - 3s 56us/step - loss: 78.2747 - mean_absolute_error: 78.2747 - accuracy: 0.0158 - mse: 22129.9609 - val_loss: 55.7298 - val_mean_absolute_error: 55.7298 - val_accuracy: 0.0341 - val_mse: 12410.3018\n",
            "\n",
            "Epoch 00027: val_loss improved from 62.77979 to 55.72980, saving model to Weights-027--55.72980.hdf5\n",
            "Epoch 28/40\n",
            "51715/51715 [==============================] - 3s 55us/step - loss: 75.8021 - mean_absolute_error: 75.8021 - accuracy: 0.0171 - mse: 20406.8105 - val_loss: 87.7424 - val_mean_absolute_error: 87.7424 - val_accuracy: 0.0296 - val_mse: 32630.1875\n",
            "\n",
            "Epoch 00028: val_loss did not improve from 55.72980\n",
            "Epoch 29/40\n",
            "51715/51715 [==============================] - 3s 54us/step - loss: 73.1760 - mean_absolute_error: 73.1760 - accuracy: 0.0181 - mse: 19222.8164 - val_loss: 98.0223 - val_mean_absolute_error: 98.0223 - val_accuracy: 0.0088 - val_mse: 28454.7344\n",
            "\n",
            "Epoch 00029: val_loss did not improve from 55.72980\n",
            "Epoch 30/40\n",
            "51715/51715 [==============================] - 3s 53us/step - loss: 71.3093 - mean_absolute_error: 71.3093 - accuracy: 0.0177 - mse: 18253.3477 - val_loss: 65.5105 - val_mean_absolute_error: 65.5105 - val_accuracy: 0.0158 - val_mse: 15944.0967\n",
            "\n",
            "Epoch 00030: val_loss did not improve from 55.72980\n",
            "Epoch 31/40\n",
            "51715/51715 [==============================] - 3s 53us/step - loss: 70.9736 - mean_absolute_error: 70.9736 - accuracy: 0.0189 - mse: 17727.8828 - val_loss: 105.6343 - val_mean_absolute_error: 105.6343 - val_accuracy: 0.0127 - val_mse: 27960.7734\n",
            "\n",
            "Epoch 00031: val_loss did not improve from 55.72980\n",
            "Epoch 32/40\n",
            "51715/51715 [==============================] - 3s 54us/step - loss: 65.9576 - mean_absolute_error: 65.9576 - accuracy: 0.0199 - mse: 15476.7412 - val_loss: 68.6196 - val_mean_absolute_error: 68.6196 - val_accuracy: 0.0302 - val_mse: 16392.1777\n",
            "\n",
            "Epoch 00032: val_loss did not improve from 55.72980\n",
            "Epoch 33/40\n",
            "51715/51715 [==============================] - 3s 55us/step - loss: 69.0786 - mean_absolute_error: 69.0786 - accuracy: 0.0197 - mse: 17357.8574 - val_loss: 59.6586 - val_mean_absolute_error: 59.6585 - val_accuracy: 0.0146 - val_mse: 11689.7178\n",
            "\n",
            "Epoch 00033: val_loss did not improve from 55.72980\n",
            "Epoch 34/40\n",
            "51715/51715 [==============================] - 3s 53us/step - loss: 67.1569 - mean_absolute_error: 67.1569 - accuracy: 0.0201 - mse: 15651.9980 - val_loss: 51.6352 - val_mean_absolute_error: 51.6352 - val_accuracy: 0.0311 - val_mse: 9250.2646\n",
            "\n",
            "Epoch 00034: val_loss improved from 55.72980 to 51.63524, saving model to Weights-034--51.63524.hdf5\n",
            "Epoch 35/40\n",
            "51715/51715 [==============================] - 3s 55us/step - loss: 64.3962 - mean_absolute_error: 64.3962 - accuracy: 0.0210 - mse: 14573.7129 - val_loss: 48.9738 - val_mean_absolute_error: 48.9738 - val_accuracy: 0.0178 - val_mse: 8460.8896\n",
            "\n",
            "Epoch 00035: val_loss improved from 51.63524 to 48.97377, saving model to Weights-035--48.97377.hdf5\n",
            "Epoch 36/40\n",
            "51715/51715 [==============================] - 3s 53us/step - loss: 63.8919 - mean_absolute_error: 63.8920 - accuracy: 0.0201 - mse: 14789.5205 - val_loss: 44.1111 - val_mean_absolute_error: 44.1111 - val_accuracy: 0.0365 - val_mse: 7512.5112\n",
            "\n",
            "Epoch 00036: val_loss improved from 48.97377 to 44.11109, saving model to Weights-036--44.11109.hdf5\n",
            "Epoch 37/40\n",
            "51715/51715 [==============================] - 3s 52us/step - loss: 65.8759 - mean_absolute_error: 65.8759 - accuracy: 0.0204 - mse: 16101.6240 - val_loss: 69.4013 - val_mean_absolute_error: 69.4014 - val_accuracy: 0.0284 - val_mse: 15877.6953\n",
            "\n",
            "Epoch 00037: val_loss did not improve from 44.11109\n",
            "Epoch 38/40\n",
            "51715/51715 [==============================] - 3s 52us/step - loss: 65.3961 - mean_absolute_error: 65.3961 - accuracy: 0.0210 - mse: 15092.9707 - val_loss: 44.2477 - val_mean_absolute_error: 44.2477 - val_accuracy: 0.0282 - val_mse: 8140.1382\n",
            "\n",
            "Epoch 00038: val_loss did not improve from 44.11109\n",
            "Epoch 39/40\n",
            "51715/51715 [==============================] - 3s 53us/step - loss: 60.2599 - mean_absolute_error: 60.2600 - accuracy: 0.0218 - mse: 12937.3154 - val_loss: 137.3787 - val_mean_absolute_error: 137.3788 - val_accuracy: 0.0104 - val_mse: 35919.4609\n",
            "\n",
            "Epoch 00039: val_loss did not improve from 44.11109\n",
            "Epoch 40/40\n",
            "51715/51715 [==============================] - 3s 55us/step - loss: 62.4284 - mean_absolute_error: 62.4284 - accuracy: 0.0233 - mse: 13903.2305 - val_loss: 51.4413 - val_mean_absolute_error: 51.4413 - val_accuracy: 0.0044 - val_mse: 8389.1123\n",
            "\n",
            "Epoch 00040: val_loss did not improve from 44.11109\n"
          ],
          "name": "stdout"
        }
      ]
    },
    {
      "cell_type": "code",
      "metadata": {
        "id": "mJC6qod-AjJL"
      },
      "source": [
        "# To save model\r\n",
        "model.save('my_model_01.hdf5')"
      ],
      "execution_count": null,
      "outputs": []
    },
    {
      "cell_type": "code",
      "metadata": {
        "id": "cP4c6u0p1ya4",
        "colab": {
          "base_uri": "https://localhost:8080/",
          "height": 332
        },
        "outputId": "957ca5ec-5108-488f-f1f6-f44328e2b370"
      },
      "source": [
        "print(history.history.keys())\n",
        "# \"Loss\"\n",
        "plt.plot(history.history['loss'])\n",
        "plt.plot(history.history['val_loss'])\n",
        "plt.title('model loss')\n",
        "plt.ylabel('loss')\n",
        "plt.xlabel('epoch')\n",
        "plt.legend(['train', 'validation'], loc='upper left')\n",
        "plt.show()"
      ],
      "execution_count": null,
      "outputs": [
        {
          "output_type": "stream",
          "text": [
            "dict_keys(['val_loss', 'val_mean_absolute_error', 'val_accuracy', 'val_mse', 'loss', 'mean_absolute_error', 'accuracy', 'mse'])\n"
          ],
          "name": "stdout"
        },
        {
          "output_type": "display_data",
          "data": {
            "image/png": "[encoded data removed]",
            "text/plain": [
              "<Figure size 432x288 with 1 Axes>"
            ]
          },
          "metadata": {
            "tags": [],
            "needs_background": "light"
          }
        }
      ]
    },
    {
      "cell_type": "code",
      "metadata": {
        "id": "nUh0xqs42QKf"
      },
      "source": [
        "# Load wights file of the best model :\n",
        "#wights_file = '/content/Weights-162--28.40366.hdf5' # choose the best checkpoint \n",
        "#NN_model.load_weights(wights_file) # load it\n",
        "#NN_model.compile(loss='mse', optimizer='adam', metrics=['mean_squared_error','mean_absolute_error','accuracy'])"
      ],
      "execution_count": null,
      "outputs": []
    },
    {
      "cell_type": "code",
      "metadata": {
        "id": "8ZnVvjZyJ3x1"
      },
      "source": [
        "#history=NN_model.fit(train_X,train_y, epochs=200, batch_size=32, validation_data =(val_X,val_y))\n"
      ],
      "execution_count": null,
      "outputs": []
    },
    {
      "cell_type": "code",
      "metadata": {
        "id": "2roiGbmeKFal",
        "colab": {
          "base_uri": "https://localhost:8080/",
          "height": 332
        },
        "outputId": "8da8aad4-f4c8-4731-8338-3e1b7dd055b9"
      },
      "source": [
        "print(history.history.keys())\n",
        "# \"Loss\"\n",
        "plt.plot(history.history['loss'])\n",
        "plt.plot(history.history['val_loss'])\n",
        "plt.title('model loss')\n",
        "plt.ylabel('loss')\n",
        "plt.xlabel('epoch')\n",
        "plt.legend(['train', 'validation'], loc='upper left')\n",
        "plt.show()"
      ],
      "execution_count": null,
      "outputs": [
        {
          "output_type": "stream",
          "text": [
            "dict_keys(['val_loss', 'val_mean_absolute_error', 'val_accuracy', 'val_mse', 'loss', 'mean_absolute_error', 'accuracy', 'mse'])\n"
          ],
          "name": "stdout"
        },
        {
          "output_type": "display_data",
          "data": {
            "image/png": "[encoded data removed]",
            "text/plain": [
              "<Figure size 432x288 with 1 Axes>"
            ]
          },
          "metadata": {
            "tags": [],
            "needs_background": "light"
          }
        }
      ]
    },
    {
      "cell_type": "code",
      "metadata": {
        "id": "OsEJjSbcs2Bx"
      },
      "source": [
        "#evaluate the model\n"
      ],
      "execution_count": null,
      "outputs": []
    },
    {
      "cell_type": "code",
      "metadata": {
        "id": "s8MwzGM-j7kT",
        "colab": {
          "base_uri": "https://localhost:8080/",
          "height": 51
        },
        "outputId": "4105ae35-1385-4baf-bc07-a1f3b26f2d62"
      },
      "source": [
        "from sklearn.metrics import mean_squared_error\n",
        "pred_nn= NN_model.predict(val_X)\n",
        "score_nn = np.sqrt(mean_squared_error(val_y,pred_nn))\n",
        "MAE_nn = mean_absolute_error(val_y , pred_nn)\n",
        "print (score_nn)\n",
        "print(MAE_nn)\n"
      ],
      "execution_count": null,
      "outputs": [
        {
          "output_type": "stream",
          "text": [
            "91.59208791775765\n",
            "51.441270903386474\n"
          ],
          "name": "stdout"
        }
      ]
    },
    {
      "cell_type": "code",
      "metadata": {
        "id": "Ub00zIA_DFBT"
      },
      "source": [
        "# Import 'r2_score'\n",
        "\n",
        "from sklearn.metrics import r2_score\n",
        "\n",
        "def performance_metric(y_true, y_predict):\n",
        "\n",
        "    \"\"\" Calculates and returns the performance score between \n",
        "        true (y_true) and predicted (y_predict) values based on the metric chosen. \"\"\"\n",
        "    score = r2_score(y_true, y_predict)\n",
        "    \n",
        "    # Return the score\n",
        "    return score"
      ],
      "execution_count": null,
      "outputs": []
    },
    {
      "cell_type": "code",
      "metadata": {
        "id": "3haOsMISDHIq",
        "colab": {
          "base_uri": "https://localhost:8080/",
          "height": 34
        },
        "outputId": "396e294f-9839-45f7-8a81-789382a85373"
      },
      "source": [
        "R2_nn=performance_metric(val_y,pred_nn)\n",
        "print(R2_nn)"
      ],
      "execution_count": null,
      "outputs": [
        {
          "output_type": "stream",
          "text": [
            "0.9935590818185762\n"
          ],
          "name": "stdout"
        }
      ]
    },
    {
      "cell_type": "code",
      "metadata": {
        "id": "0UtEsCsc2QKi",
        "colab": {
          "base_uri": "https://localhost:8080/",
          "height": 52
        },
        "outputId": "31b4e4a4-819d-49aa-f83c-a8804b94bf44"
      },
      "source": [
        "test_predictions = NN_model.predict(test).flatten()\n",
        "'''a = plt.axes(aspect='equal')\n",
        "plt.scatter(target_test, test_predictions)\n",
        "plt.xlabel('True Values [MPG]')\n",
        "plt.ylabel('Predictions [MPG]')\n",
        "lims = [0,1000]\n",
        "plt.xlim(lims)\n",
        "plt.ylim(lims)\n",
        "_ = plt.plot(lims, lims)'''"
      ],
      "execution_count": 1,
      "outputs": [
        {
          "output_type": "execute_result",
          "data": {
            "application/vnd.google.colaboratory.intrinsic+json": {
              "type": "string"
            },
            "text/plain": [
              "\"a = plt.axes(aspect='equal')\\nplt.scatter(target_test, test_predictions)\\nplt.xlabel('True Values [MPG]')\\nplt.ylabel('Predictions [MPG]')\\nlims = [0,1000]\\nplt.xlim(lims)\\nplt.ylim(lims)\\n_ = plt.plot(lims, lims)\""
            ]
          },
          "metadata": {
            "tags": []
          },
          "execution_count": 1
        }
      ]
    },
    {
      "cell_type": "code",
      "metadata": {
        "id": "91YB--zrAtBC",
        "colab": {
          "base_uri": "https://localhost:8080/",
          "height": 279
        },
        "outputId": "7beb88c2-9b7f-45af-ffd0-d8ac69a4bf99"
      },
      "source": [
        "error = test_predictions - target_test\n",
        "'''plt.hist(error, bins =25)\n",
        "plt.xlabel(\"Prediction Error [MPG]\")\n",
        "_ = plt.ylabel(\"Count\")'''"
      ],
      "execution_count": null,
      "outputs": [
        {
          "output_type": "display_data",
          "data": {
            "image/png": "[encoded data removed]",
            "text/plain": [
              "<Figure size 432x288 with 1 Axes>"
            ]
          },
          "metadata": {
            "tags": [],
            "needs_background": "light"
          }
        }
      ]
    },
    {
      "cell_type": "code",
      "metadata": {
        "id": "xXCvaseGEiGU",
        "colab": {
          "base_uri": "https://localhost:8080/",
          "height": 163
        },
        "outputId": "1d33cee9-6948-400e-f177-877ff59f8338"
      },
      "source": [
        "#print(predictions)"
      ],
      "execution_count": null,
      "outputs": [
        {
          "output_type": "error",
          "ename": "NameError",
          "evalue": "ignored",
          "traceback": [
            "\u001b[0;31m---------------------------------------------------------------------------\u001b[0m",
            "\u001b[0;31mNameError\u001b[0m                                 Traceback (most recent call last)",
            "\u001b[0;32m<ipython-input-214-7ea0ff523e42>\u001b[0m in \u001b[0;36m<module>\u001b[0;34m()\u001b[0m\n\u001b[0;32m----> 1\u001b[0;31m \u001b[0mprint\u001b[0m\u001b[0;34m(\u001b[0m\u001b[0mpredictions\u001b[0m\u001b[0;34m)\u001b[0m\u001b[0;34m\u001b[0m\u001b[0;34m\u001b[0m\u001b[0m\n\u001b[0m",
            "\u001b[0;31mNameError\u001b[0m: name 'predictions' is not defined"
          ]
        }
      ]
    },
    {
      "cell_type": "code",
      "metadata": {
        "id": "VaOQ8Xvr2QKy"
      },
      "source": [
        "model = RandomForestRegressor()\n",
        "model.fit(train_X,train_y)\n",
        "\n",
        "# Get the mean absolute error on the validation data\n",
        "pred_rf = model.predict(val_X)\n",
        "score_rf = np.sqrt(mean_squared_error(val_y,pred_rf))\n",
        "MAE_rf = mean_absolute_error(val_y , pred_rf)\n",
        "print(score_rf)\n",
        "print('Random forest validation MAE = ', MAE_rf)"
      ],
      "execution_count": null,
      "outputs": []
    },
    {
      "cell_type": "code",
      "metadata": {
        "id": "P9sNn68LGNKc"
      },
      "source": [
        "R2_rf=performance_metric(val_y,pred_rf)\n",
        "print(R2_rf)"
      ],
      "execution_count": null,
      "outputs": []
    },
    {
      "cell_type": "code",
      "metadata": {
        "id": "t7awibs02QK4"
      },
      "source": [
        "pred_rf = model.predict(test)"
      ],
      "execution_count": null,
      "outputs": []
    },
    {
      "cell_type": "code",
      "metadata": {
        "id": "Cyeen2sdLPTR"
      },
      "source": [
        "print(pred_rf)"
      ],
      "execution_count": null,
      "outputs": []
    },
    {
      "cell_type": "code",
      "metadata": {
        "id": "4A62rks52QK9"
      },
      "source": [
        "#trying XgRegressor\n",
        "XGBModel = XGBRegressor()\n",
        "historyxgb=XGBModel.fit(train_X,train_y , verbose=False)\n",
        "\n",
        "# Get the mean absolute error on the validation data :\n",
        "pred_xgb = XGBModel.predict(val_X)\n",
        "score_xgb = np.sqrt(mean_squared_error(val_y,pred_xgb))\n",
        "MAE_xgb = mean_absolute_error(val_y , pred_xgb)\n",
        "print(score_xgb)\n",
        "print('XGBoost validation MAE = ',MAE_xgb)"
      ],
      "execution_count": null,
      "outputs": []
    },
    {
      "cell_type": "code",
      "metadata": {
        "id": "40dwaFTNGmsy"
      },
      "source": [
        "R2_xgb=performance_metric(val_y,pred_xgb)\n",
        "print(R2_xgb)"
      ],
      "execution_count": null,
      "outputs": []
    },
    {
      "cell_type": "code",
      "metadata": {
        "id": "ulU0cPvi2QLF"
      },
      "source": [
        "XGBpredictions = XGBModel.predict(test)"
      ],
      "execution_count": null,
      "outputs": []
    },
    {
      "cell_type": "code",
      "metadata": {
        "id": "qEh7JSmT_OUi"
      },
      "source": [
        ""
      ],
      "execution_count": null,
      "outputs": []
    }
  ]
}